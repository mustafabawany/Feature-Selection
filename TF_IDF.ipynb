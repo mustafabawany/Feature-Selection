{
  "nbformat": 4,
  "nbformat_minor": 0,
  "metadata": {
    "colab": {
      "name": "TF-IDF.ipynb",
      "provenance": [],
      "collapsed_sections": []
    },
    "kernelspec": {
      "name": "python3",
      "display_name": "Python 3"
    },
    "language_info": {
      "name": "python"
    }
  },
  "cells": [
    {
      "cell_type": "code",
      "execution_count": 5,
      "metadata": {
        "colab": {
          "base_uri": "https://localhost:8080/"
        },
        "id": "2_K2ZlVzuplE",
        "outputId": "61621d36-c411-4dfd-9ec1-0f5a4708dd0c"
      },
      "outputs": [
        {
          "output_type": "stream",
          "name": "stdout",
          "text": [
            "[nltk_data] Downloading package punkt to /root/nltk_data...\n",
            "[nltk_data]   Package punkt is already up-to-date!\n",
            "[nltk_data] Downloading package wordnet to /root/nltk_data...\n",
            "[nltk_data]   Package wordnet is already up-to-date!\n",
            "[nltk_data] Downloading package averaged_perceptron_tagger to\n",
            "[nltk_data]     /root/nltk_data...\n",
            "[nltk_data]   Package averaged_perceptron_tagger is already up-to-\n",
            "[nltk_data]       date!\n"
          ]
        },
        {
          "output_type": "execute_result",
          "data": {
            "text/plain": [
              "True"
            ]
          },
          "metadata": {},
          "execution_count": 5
        }
      ],
      "source": [
        "import numpy as np\n",
        "import pandas as pd\n",
        "import nltk\n",
        "from sklearn import metrics\n",
        "from nltk.tag import pos_tag\n",
        "from sklearn import preprocessing\n",
        "from collections import defaultdict\n",
        "from nltk.tokenize import word_tokenize\n",
        "from nltk.tokenize import RegexpTokenizer\n",
        "from nltk.corpus import wordnet, stopwords\n",
        "from sklearn.metrics import accuracy_score\n",
        "from sklearn.metrics import confusion_matrix\n",
        "from sklearn.naive_bayes import MultinomialNB\n",
        "from sklearn.model_selection import train_test_split\n",
        "from sklearn.feature_extraction.text import TfidfVectorizer\n",
        "\n",
        "nltk.download('punkt')\n",
        "nltk.download('wordnet')\n",
        "nltk.download('averaged_perceptron_tagger')"
      ]
    },
    {
      "cell_type": "code",
      "source": [
        "import sys                                                                  \n",
        "from google.colab import files\n",
        "sys.path.insert(0,'/content/drive/MyDrive/Assignment3')"
      ],
      "metadata": {
        "id": "9BEQjN6Xvycf"
      },
      "execution_count": 6,
      "outputs": []
    },
    {
      "cell_type": "code",
      "source": [
        "from google.colab import drive\n",
        "drive.mount('/content/drive')"
      ],
      "metadata": {
        "colab": {
          "base_uri": "https://localhost:8080/"
        },
        "id": "eASs0cEQvyq9",
        "outputId": "0967ae5f-5523-4cf1-b5dc-eb07fdb877ce"
      },
      "execution_count": 8,
      "outputs": [
        {
          "output_type": "stream",
          "name": "stdout",
          "text": [
            "Mounted at /content/drive\n"
          ]
        }
      ]
    },
    {
      "cell_type": "code",
      "source": [
        "labels=[\"docID\", \"Title\", \"Content\", \"Preprocessed\" , \"Lemmatized\" , \"Type\"]\n",
        "raw_data = \"\"\n",
        "\n",
        "def getTrainingDataset():\n",
        "    return pd.read_csv('/content/drive/MyDrive/Assignment3/clean_data.csv', header=None, names=labels)  \n",
        "\n",
        "raw_data = getTrainingDataset()\n",
        "\n",
        "raw_data.head()"
      ],
      "metadata": {
        "colab": {
          "base_uri": "https://localhost:8080/",
          "height": 441
        },
        "id": "l_v29jDbvzol",
        "outputId": "2a6b3729-d71d-499d-e452-74a4bd4abae5"
      },
      "execution_count": 9,
      "outputs": [
        {
          "output_type": "execute_result",
          "data": {
            "text/plain": [
              "   docID                                              Title  \\\n",
              "0      0         http:^^www.cs.wisc.edu^~cs564-1^cs564.html   \n",
              "1      1  http:^^www.cs.washington.edu^education^courses...   \n",
              "2      2          http:^^www.cs.wisc.edu^~ferris^cs719.html   \n",
              "3      3  http:^^www.cs.washington.edu^education^courses...   \n",
              "4      4        http:^^www.cs.wisc.edu^~turnidge^cs302.html   \n",
              "\n",
              "                                             Content  \\\n",
              "0  \\n\\nCS 564 - Database Management Systems: Desi...   \n",
              "1   \\nCSE 413 (Winter 1996) Home Page\\n\\nCSE 413 ...   \n",
              "2  \\n\\n CS 719, Spring 1996  \\n\\n\\n\\n\\n CS 719: N...   \n",
              "3  \\n\\nCSE 451 Home Page\\n\\n\\n\\nCSE 451\\nIntroduc...   \n",
              "4  \\n\\nCS302, Section 19\\n\\n\\nComputer Science 30...   \n",
              "\n",
              "                                        Preprocessed  \\\n",
              "0  cs database management systems design implemen...   \n",
              "1  cse winter home page cse winter programming la...   \n",
              "2  cs spring cs network flows spring schedule lec...   \n",
              "3  cse home page cse introduction operating syste...   \n",
              "4  cs section computer science section time mwf p...   \n",
              "\n",
              "                                          Lemmatized    Type  \n",
              "0  c database management system design implementa...  Course  \n",
              "1  cse winter home page cse winter programming la...  Course  \n",
              "2  c spring c network flow spring schedule lectur...  Course  \n",
              "3  cse home page cse introduction operating syste...  Course  \n",
              "4  c section computer science section time mwf pl...  Course  "
            ],
            "text/html": [
              "\n",
              "  <div id=\"df-86c49116-a104-40b7-94e1-1551caf5a6c3\">\n",
              "    <div class=\"colab-df-container\">\n",
              "      <div>\n",
              "<style scoped>\n",
              "    .dataframe tbody tr th:only-of-type {\n",
              "        vertical-align: middle;\n",
              "    }\n",
              "\n",
              "    .dataframe tbody tr th {\n",
              "        vertical-align: top;\n",
              "    }\n",
              "\n",
              "    .dataframe thead th {\n",
              "        text-align: right;\n",
              "    }\n",
              "</style>\n",
              "<table border=\"1\" class=\"dataframe\">\n",
              "  <thead>\n",
              "    <tr style=\"text-align: right;\">\n",
              "      <th></th>\n",
              "      <th>docID</th>\n",
              "      <th>Title</th>\n",
              "      <th>Content</th>\n",
              "      <th>Preprocessed</th>\n",
              "      <th>Lemmatized</th>\n",
              "      <th>Type</th>\n",
              "    </tr>\n",
              "  </thead>\n",
              "  <tbody>\n",
              "    <tr>\n",
              "      <th>0</th>\n",
              "      <td>0</td>\n",
              "      <td>http:^^www.cs.wisc.edu^~cs564-1^cs564.html</td>\n",
              "      <td>\\n\\nCS 564 - Database Management Systems: Desi...</td>\n",
              "      <td>cs database management systems design implemen...</td>\n",
              "      <td>c database management system design implementa...</td>\n",
              "      <td>Course</td>\n",
              "    </tr>\n",
              "    <tr>\n",
              "      <th>1</th>\n",
              "      <td>1</td>\n",
              "      <td>http:^^www.cs.washington.edu^education^courses...</td>\n",
              "      <td>\\nCSE 413 (Winter 1996) Home Page\\n\\nCSE 413 ...</td>\n",
              "      <td>cse winter home page cse winter programming la...</td>\n",
              "      <td>cse winter home page cse winter programming la...</td>\n",
              "      <td>Course</td>\n",
              "    </tr>\n",
              "    <tr>\n",
              "      <th>2</th>\n",
              "      <td>2</td>\n",
              "      <td>http:^^www.cs.wisc.edu^~ferris^cs719.html</td>\n",
              "      <td>\\n\\n CS 719, Spring 1996  \\n\\n\\n\\n\\n CS 719: N...</td>\n",
              "      <td>cs spring cs network flows spring schedule lec...</td>\n",
              "      <td>c spring c network flow spring schedule lectur...</td>\n",
              "      <td>Course</td>\n",
              "    </tr>\n",
              "    <tr>\n",
              "      <th>3</th>\n",
              "      <td>3</td>\n",
              "      <td>http:^^www.cs.washington.edu^education^courses...</td>\n",
              "      <td>\\n\\nCSE 451 Home Page\\n\\n\\n\\nCSE 451\\nIntroduc...</td>\n",
              "      <td>cse home page cse introduction operating syste...</td>\n",
              "      <td>cse home page cse introduction operating syste...</td>\n",
              "      <td>Course</td>\n",
              "    </tr>\n",
              "    <tr>\n",
              "      <th>4</th>\n",
              "      <td>4</td>\n",
              "      <td>http:^^www.cs.wisc.edu^~turnidge^cs302.html</td>\n",
              "      <td>\\n\\nCS302, Section 19\\n\\n\\nComputer Science 30...</td>\n",
              "      <td>cs section computer science section time mwf p...</td>\n",
              "      <td>c section computer science section time mwf pl...</td>\n",
              "      <td>Course</td>\n",
              "    </tr>\n",
              "  </tbody>\n",
              "</table>\n",
              "</div>\n",
              "      <button class=\"colab-df-convert\" onclick=\"convertToInteractive('df-86c49116-a104-40b7-94e1-1551caf5a6c3')\"\n",
              "              title=\"Convert this dataframe to an interactive table.\"\n",
              "              style=\"display:none;\">\n",
              "        \n",
              "  <svg xmlns=\"http://www.w3.org/2000/svg\" height=\"24px\"viewBox=\"0 0 24 24\"\n",
              "       width=\"24px\">\n",
              "    <path d=\"M0 0h24v24H0V0z\" fill=\"none\"/>\n",
              "    <path d=\"M18.56 5.44l.94 2.06.94-2.06 2.06-.94-2.06-.94-.94-2.06-.94 2.06-2.06.94zm-11 1L8.5 8.5l.94-2.06 2.06-.94-2.06-.94L8.5 2.5l-.94 2.06-2.06.94zm10 10l.94 2.06.94-2.06 2.06-.94-2.06-.94-.94-2.06-.94 2.06-2.06.94z\"/><path d=\"M17.41 7.96l-1.37-1.37c-.4-.4-.92-.59-1.43-.59-.52 0-1.04.2-1.43.59L10.3 9.45l-7.72 7.72c-.78.78-.78 2.05 0 2.83L4 21.41c.39.39.9.59 1.41.59.51 0 1.02-.2 1.41-.59l7.78-7.78 2.81-2.81c.8-.78.8-2.07 0-2.86zM5.41 20L4 18.59l7.72-7.72 1.47 1.35L5.41 20z\"/>\n",
              "  </svg>\n",
              "      </button>\n",
              "      \n",
              "  <style>\n",
              "    .colab-df-container {\n",
              "      display:flex;\n",
              "      flex-wrap:wrap;\n",
              "      gap: 12px;\n",
              "    }\n",
              "\n",
              "    .colab-df-convert {\n",
              "      background-color: #E8F0FE;\n",
              "      border: none;\n",
              "      border-radius: 50%;\n",
              "      cursor: pointer;\n",
              "      display: none;\n",
              "      fill: #1967D2;\n",
              "      height: 32px;\n",
              "      padding: 0 0 0 0;\n",
              "      width: 32px;\n",
              "    }\n",
              "\n",
              "    .colab-df-convert:hover {\n",
              "      background-color: #E2EBFA;\n",
              "      box-shadow: 0px 1px 2px rgba(60, 64, 67, 0.3), 0px 1px 3px 1px rgba(60, 64, 67, 0.15);\n",
              "      fill: #174EA6;\n",
              "    }\n",
              "\n",
              "    [theme=dark] .colab-df-convert {\n",
              "      background-color: #3B4455;\n",
              "      fill: #D2E3FC;\n",
              "    }\n",
              "\n",
              "    [theme=dark] .colab-df-convert:hover {\n",
              "      background-color: #434B5C;\n",
              "      box-shadow: 0px 1px 3px 1px rgba(0, 0, 0, 0.15);\n",
              "      filter: drop-shadow(0px 1px 2px rgba(0, 0, 0, 0.3));\n",
              "      fill: #FFFFFF;\n",
              "    }\n",
              "  </style>\n",
              "\n",
              "      <script>\n",
              "        const buttonEl =\n",
              "          document.querySelector('#df-86c49116-a104-40b7-94e1-1551caf5a6c3 button.colab-df-convert');\n",
              "        buttonEl.style.display =\n",
              "          google.colab.kernel.accessAllowed ? 'block' : 'none';\n",
              "\n",
              "        async function convertToInteractive(key) {\n",
              "          const element = document.querySelector('#df-86c49116-a104-40b7-94e1-1551caf5a6c3');\n",
              "          const dataTable =\n",
              "            await google.colab.kernel.invokeFunction('convertToInteractive',\n",
              "                                                     [key], {});\n",
              "          if (!dataTable) return;\n",
              "\n",
              "          const docLinkHtml = 'Like what you see? Visit the ' +\n",
              "            '<a target=\"_blank\" href=https://colab.research.google.com/notebooks/data_table.ipynb>data table notebook</a>'\n",
              "            + ' to learn more about interactive tables.';\n",
              "          element.innerHTML = '';\n",
              "          dataTable['output_type'] = 'display_data';\n",
              "          await google.colab.output.renderOutput(dataTable, element);\n",
              "          const docLink = document.createElement('div');\n",
              "          docLink.innerHTML = docLinkHtml;\n",
              "          element.appendChild(docLink);\n",
              "        }\n",
              "      </script>\n",
              "    </div>\n",
              "  </div>\n",
              "  "
            ]
          },
          "metadata": {},
          "execution_count": 9
        }
      ]
    },
    {
      "cell_type": "code",
      "source": [
        "Y = raw_data[\"Type\"]\n",
        "X = raw_data[\"Lemmatized\"]"
      ],
      "metadata": {
        "id": "dMyIGe-tv0yx"
      },
      "execution_count": 11,
      "outputs": []
    },
    {
      "cell_type": "code",
      "source": [
        "#Selecting top 100 Features\n",
        "\n",
        "vectorizer = TfidfVectorizer(tokenizer = word_tokenize , ngram_range=(1,2) , binary=True , max_features=100)\n",
        "X_TFIDF = vectorizer.fit_transform(X)"
      ],
      "metadata": {
        "id": "zFIzE3Nfw2bY"
      },
      "execution_count": 15,
      "outputs": []
    },
    {
      "cell_type": "code",
      "source": [
        "print(X_TFIDF.shape)"
      ],
      "metadata": {
        "colab": {
          "base_uri": "https://localhost:8080/"
        },
        "id": "AmevPLHNw6b3",
        "outputId": "85c6bb56-ff11-412c-f08d-3bd22aad4c6f"
      },
      "execution_count": 16,
      "outputs": [
        {
          "output_type": "stream",
          "name": "stdout",
          "text": [
            "(1051, 100)\n"
          ]
        }
      ]
    },
    {
      "cell_type": "markdown",
      "source": [
        "# Splitting Data Into Traininig And Testing"
      ],
      "metadata": {
        "id": "iJYrjZcV2aqE"
      }
    },
    {
      "cell_type": "code",
      "source": [
        "X_train, X_test , Y_train , Y_test = train_test_split(X_TFIDF, Y, test_size = 0.3, random_state=3 , stratify = Y)"
      ],
      "metadata": {
        "id": "1K6VNxgcw_lQ"
      },
      "execution_count": 18,
      "outputs": []
    },
    {
      "cell_type": "code",
      "source": [
        "print(X_train)"
      ],
      "metadata": {
        "colab": {
          "base_uri": "https://localhost:8080/"
        },
        "id": "JE_C39OnxHX7",
        "outputId": "0b44dd66-f122-4e01-a9d2-4d09b99ce4e7"
      },
      "execution_count": 19,
      "outputs": [
        {
          "output_type": "stream",
          "name": "stdout",
          "text": [
            "  (0, 62)\t0.2040803435139545\n",
            "  (0, 69)\t0.1877581850100616\n",
            "  (0, 98)\t0.20448713384343245\n",
            "  (0, 23)\t0.2065552076643644\n",
            "  (0, 1)\t0.2040803435139545\n",
            "  (0, 65)\t0.2065552076643644\n",
            "  (0, 70)\t0.13373937631633273\n",
            "  (0, 4)\t0.21640855695993327\n",
            "  (0, 28)\t0.21221840769256872\n",
            "  (0, 43)\t0.16030851732527696\n",
            "  (0, 16)\t0.10630686910071882\n",
            "  (0, 7)\t0.19142917797029343\n",
            "  (0, 37)\t0.19211658148684277\n",
            "  (0, 77)\t0.18551320468020593\n",
            "  (0, 17)\t0.20697582663305167\n",
            "  (0, 3)\t0.2061369583925789\n",
            "  (0, 66)\t0.18181589048254884\n",
            "  (0, 51)\t0.18808451102726534\n",
            "  (0, 32)\t0.16423498084896182\n",
            "  (0, 72)\t0.10426985764399753\n",
            "  (0, 15)\t0.09759900918918249\n",
            "  (0, 67)\t0.16838076673949173\n",
            "  (0, 40)\t0.11242146468135443\n",
            "  (0, 29)\t0.17145316584582246\n",
            "  (0, 59)\t0.09578471704729043\n",
            "  :\t:\n",
            "  (734, 92)\t0.1664828747900317\n",
            "  (734, 51)\t0.17928070532357102\n",
            "  (734, 90)\t0.17504569281438695\n",
            "  (734, 82)\t0.10483530212089966\n",
            "  (734, 32)\t0.15654751709531645\n",
            "  (734, 72)\t0.09938922413283856\n",
            "  (734, 15)\t0.09303062283412489\n",
            "  (734, 25)\t0.11500358763541142\n",
            "  (734, 40)\t0.10715927309219214\n",
            "  (734, 57)\t0.20719799452361753\n",
            "  (734, 50)\t0.17990694028935758\n",
            "  (734, 29)\t0.16342783536461614\n",
            "  (734, 59)\t0.09130125355706481\n",
            "  (734, 39)\t0.10133088774308793\n",
            "  (734, 45)\t0.14394778652124238\n",
            "  (734, 81)\t0.15520385477749335\n",
            "  (734, 41)\t0.19850436622838674\n",
            "  (734, 56)\t0.1502772847599915\n",
            "  (734, 14)\t0.17835162297145585\n",
            "  (734, 54)\t0.18053876671273014\n",
            "  (734, 42)\t0.12930169398391722\n",
            "  (734, 21)\t0.1581480655360789\n",
            "  (734, 27)\t0.1893112523590434\n",
            "  (734, 79)\t0.1279305492489463\n",
            "  (734, 9)\t0.0799447619582089\n"
          ]
        }
      ]
    },
    {
      "cell_type": "markdown",
      "source": [
        "# Applying Multinomial Naive Bayes"
      ],
      "metadata": {
        "id": "tV_YL8oF2Sf4"
      }
    },
    {
      "cell_type": "code",
      "source": [
        "model = MultinomialNB()\n",
        "model.fit(X_train.todense(), Y_train)"
      ],
      "metadata": {
        "colab": {
          "base_uri": "https://localhost:8080/"
        },
        "id": "Ku-wy8lqxrjZ",
        "outputId": "5e94fc20-fae9-403f-ab47-1e76bebda582"
      },
      "execution_count": 20,
      "outputs": [
        {
          "output_type": "stream",
          "name": "stderr",
          "text": [
            "/usr/local/lib/python3.7/dist-packages/sklearn/utils/validation.py:598: FutureWarning: np.matrix usage is deprecated in 1.0 and will raise a TypeError in 1.2. Please convert to a numpy array with np.asarray. For more information see: https://numpy.org/doc/stable/reference/generated/numpy.matrix.html\n",
            "  FutureWarning,\n"
          ]
        },
        {
          "output_type": "execute_result",
          "data": {
            "text/plain": [
              "MultinomialNB()"
            ]
          },
          "metadata": {},
          "execution_count": 20
        }
      ]
    },
    {
      "cell_type": "code",
      "source": [
        "Y_Pred = model.predict(X_test.todense())"
      ],
      "metadata": {
        "colab": {
          "base_uri": "https://localhost:8080/"
        },
        "id": "eRv5FKlqxvpa",
        "outputId": "93cf38ff-6c65-4035-822f-602f505943cf"
      },
      "execution_count": 21,
      "outputs": [
        {
          "output_type": "stream",
          "name": "stderr",
          "text": [
            "/usr/local/lib/python3.7/dist-packages/sklearn/utils/validation.py:598: FutureWarning: np.matrix usage is deprecated in 1.0 and will raise a TypeError in 1.2. Please convert to a numpy array with np.asarray. For more information see: https://numpy.org/doc/stable/reference/generated/numpy.matrix.html\n",
            "  FutureWarning,\n"
          ]
        }
      ]
    },
    {
      "cell_type": "markdown",
      "source": [
        "## Visualization"
      ],
      "metadata": {
        "id": "R3qEJ2Bpx5Bt"
      }
    },
    {
      "cell_type": "code",
      "source": [
        "from sklearn import metrics\n",
        "import matplotlib.pyplot as plt\n",
        "from sklearn.metrics import confusion_matrix\n",
        "import seaborn as sns\n",
        "from sklearn.metrics import classification_report\n",
        "\n",
        "print('Accuracy score with Multinomial Naive Bayes is : ')\n",
        "print(metrics.accuracy_score(Y_test,Y_Pred)*100)\n",
        "cf_matrix = confusion_matrix(Y_test, Y_Pred)\n",
        "print(classification_report(Y_test, Y_Pred))\n",
        "\n",
        "plt.figure(figsize=(44,12))\n",
        "\n",
        "unique_label = [\"Course\" , \"No Course\"]\n",
        "\n",
        "sns.heatmap(cf_matrix,annot=True ,fmt='d',  cmap='Blues',square=True ,cbar=True, linewidths=.10, xticklabels= unique_label, yticklabels= unique_label  )\n",
        "plt.ylabel('Actual lable')\n",
        "plt.xlabel('Predicted lable')"
      ],
      "metadata": {
        "colab": {
          "base_uri": "https://localhost:8080/",
          "height": 922
        },
        "id": "5tgRTJuExxhk",
        "outputId": "e1e59f8b-b7ee-4b63-b501-8fca8698e053"
      },
      "execution_count": 22,
      "outputs": [
        {
          "output_type": "stream",
          "name": "stdout",
          "text": [
            "Accuracy score with Multinomial Naive Bayes is : \n",
            "91.45569620253164\n",
            "              precision    recall  f1-score   support\n",
            "\n",
            "      Course       0.89      0.70      0.78        69\n",
            "   No Course       0.92      0.98      0.95       247\n",
            "\n",
            "    accuracy                           0.91       316\n",
            "   macro avg       0.90      0.84      0.86       316\n",
            "weighted avg       0.91      0.91      0.91       316\n",
            "\n"
          ]
        },
        {
          "output_type": "execute_result",
          "data": {
            "text/plain": [
              "Text(0.5, 87.0, 'Predicted lable')"
            ]
          },
          "metadata": {},
          "execution_count": 22
        },
        {
          "output_type": "display_data",
          "data": {
            "text/plain": [
              "<Figure size 3168x864 with 2 Axes>"
            ],
            "image/png": "[encoded data removed]"
          },
          "metadata": {
            "needs_background": "light"
          }
        }
      ]
    },
    {
      "cell_type": "markdown",
      "source": [
        "## **Saving Models**"
      ],
      "metadata": {
        "id": "_wIO_g4HbHeh"
      }
    },
    {
      "cell_type": "code",
      "source": [
        "import pickle\n",
        "pickle.dump(model, open('model_Tfidf.pickle', 'wb'))\n",
        "pickle.dump(vectorizer, open(\"vectorizer_Tfidf.pickle\", \"wb\"))"
      ],
      "metadata": {
        "id": "pEXrVveKxy9e"
      },
      "execution_count": 23,
      "outputs": []
    },
    {
      "cell_type": "code",
      "source": [
        ""
      ],
      "metadata": {
        "id": "VBqXFNdryFWH"
      },
      "execution_count": null,
      "outputs": []
    }
  ]
}