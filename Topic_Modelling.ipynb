{
  "nbformat": 4,
  "nbformat_minor": 0,
  "metadata": {
    "colab": {
      "name": "Topic Modelling.ipynb",
      "provenance": [],
      "collapsed_sections": []
    },
    "kernelspec": {
      "name": "python3",
      "display_name": "Python 3"
    },
    "language_info": {
      "name": "python"
    }
  },
  "cells": [
    {
      "cell_type": "markdown",
      "source": [
        "## Importing Packages"
      ],
      "metadata": {
        "id": "0kgsmFN6v2Dz"
      }
    },
    {
      "cell_type": "code",
      "execution_count": 5,
      "metadata": {
        "colab": {
          "base_uri": "https://localhost:8080/"
        },
        "id": "UuoFBRWyyBJS",
        "outputId": "51d3b5ad-dee6-48fc-aaf8-3392c72332aa"
      },
      "outputs": [
        {
          "output_type": "stream",
          "name": "stdout",
          "text": [
            "[nltk_data] Downloading package punkt to /root/nltk_data...\n",
            "[nltk_data]   Package punkt is already up-to-date!\n",
            "[nltk_data] Downloading package wordnet to /root/nltk_data...\n",
            "[nltk_data]   Package wordnet is already up-to-date!\n",
            "[nltk_data] Downloading package averaged_perceptron_tagger to\n",
            "[nltk_data]     /root/nltk_data...\n",
            "[nltk_data]   Package averaged_perceptron_tagger is already up-to-\n",
            "[nltk_data]       date!\n"
          ]
        }
      ],
      "source": [
        "import numpy as np\n",
        "import pandas as pd\n",
        "import nltk\n",
        "from sklearn import metrics\n",
        "from nltk.tag import pos_tag\n",
        "from sklearn import preprocessing\n",
        "from collections import defaultdict\n",
        "from nltk.tokenize import word_tokenize\n",
        "from nltk.tokenize import RegexpTokenizer\n",
        "from nltk.corpus import wordnet, stopwords\n",
        "from sklearn.metrics import accuracy_score\n",
        "from sklearn.metrics import confusion_matrix\n",
        "from sklearn.naive_bayes import MultinomialNB\n",
        "from sklearn.model_selection import train_test_split\n",
        "from sklearn.feature_extraction.text import TfidfVectorizer\n",
        "\n",
        "nltk.download('punkt')\n",
        "nltk.download('wordnet')\n",
        "nltk.download('averaged_perceptron_tagger')"
      ]
    },
    {
      "cell_type": "markdown",
      "source": [
        "## Mounting Google Drive"
      ],
      "metadata": {
        "id": "PRjPhAmgv6lx"
      }
    },
    {
      "cell_type": "code",
      "source": [
        "import sys                                                                  \n",
        "from google.colab import files\n",
        "sys.path.insert(0,'/content/drive/MyDrive/Assignment3')"
      ],
      "metadata": {
        "id": "rS21z3DlyF9u"
      },
      "execution_count": 6,
      "outputs": []
    },
    {
      "cell_type": "code",
      "source": [
        "from google.colab import drive\n",
        "drive.mount('/content/drive')"
      ],
      "metadata": {
        "colab": {
          "base_uri": "https://localhost:8080/"
        },
        "id": "VPvs51ymyI5c",
        "outputId": "a80d1773-0a18-4f82-db90-20dad296484c"
      },
      "execution_count": 7,
      "outputs": [
        {
          "output_type": "stream",
          "name": "stdout",
          "text": [
            "Drive already mounted at /content/drive; to attempt to forcibly remount, call drive.mount(\"/content/drive\", force_remount=True).\n"
          ]
        }
      ]
    },
    {
      "cell_type": "markdown",
      "source": [
        "## Reading CSV"
      ],
      "metadata": {
        "id": "s1y0CRmhv8x6"
      }
    },
    {
      "cell_type": "code",
      "source": [
        "labels=[\"docID\", \"Title\", \"Content\", \"Preprocessed\" , \"Lemmatized\" , \"Type\"]\n",
        "raw_data = \"\"\n",
        "\n",
        "def getTrainingDataset():\n",
        "    return pd.read_csv('/content/drive/MyDrive/Assignment3/clean_data.csv', header=None, names=labels)  \n",
        "\n",
        "raw_data = getTrainingDataset()\n",
        "\n",
        "raw_data.head()"
      ],
      "metadata": {
        "colab": {
          "base_uri": "https://localhost:8080/",
          "height": 441
        },
        "id": "uDiVhuWDyJke",
        "outputId": "6a26995a-5fcf-46f5-8d76-358c704378b5"
      },
      "execution_count": 8,
      "outputs": [
        {
          "output_type": "execute_result",
          "data": {
            "text/plain": [
              "   docID                                              Title  \\\n",
              "0      0         http:^^www.cs.wisc.edu^~cs564-1^cs564.html   \n",
              "1      1  http:^^www.cs.washington.edu^education^courses...   \n",
              "2      2          http:^^www.cs.wisc.edu^~ferris^cs719.html   \n",
              "3      3  http:^^www.cs.washington.edu^education^courses...   \n",
              "4      4        http:^^www.cs.wisc.edu^~turnidge^cs302.html   \n",
              "\n",
              "                                             Content  \\\n",
              "0  \\n\\nCS 564 - Database Management Systems: Desi...   \n",
              "1   \\nCSE 413 (Winter 1996) Home Page\\n\\nCSE 413 ...   \n",
              "2  \\n\\n CS 719, Spring 1996  \\n\\n\\n\\n\\n CS 719: N...   \n",
              "3  \\n\\nCSE 451 Home Page\\n\\n\\n\\nCSE 451\\nIntroduc...   \n",
              "4  \\n\\nCS302, Section 19\\n\\n\\nComputer Science 30...   \n",
              "\n",
              "                                        Preprocessed  \\\n",
              "0  cs database management systems design implemen...   \n",
              "1  cse winter home page cse winter programming la...   \n",
              "2  cs spring cs network flows spring schedule lec...   \n",
              "3  cse home page cse introduction operating syste...   \n",
              "4  cs section computer science section time mwf p...   \n",
              "\n",
              "                                          Lemmatized    Type  \n",
              "0  c database management system design implementa...  Course  \n",
              "1  cse winter home page cse winter programming la...  Course  \n",
              "2  c spring c network flow spring schedule lectur...  Course  \n",
              "3  cse home page cse introduction operating syste...  Course  \n",
              "4  c section computer science section time mwf pl...  Course  "
            ],
            "text/html": [
              "\n",
              "  <div id=\"df-c77f3f91-12c8-4935-b6c6-92d5c90a8d94\">\n",
              "    <div class=\"colab-df-container\">\n",
              "      <div>\n",
              "<style scoped>\n",
              "    .dataframe tbody tr th:only-of-type {\n",
              "        vertical-align: middle;\n",
              "    }\n",
              "\n",
              "    .dataframe tbody tr th {\n",
              "        vertical-align: top;\n",
              "    }\n",
              "\n",
              "    .dataframe thead th {\n",
              "        text-align: right;\n",
              "    }\n",
              "</style>\n",
              "<table border=\"1\" class=\"dataframe\">\n",
              "  <thead>\n",
              "    <tr style=\"text-align: right;\">\n",
              "      <th></th>\n",
              "      <th>docID</th>\n",
              "      <th>Title</th>\n",
              "      <th>Content</th>\n",
              "      <th>Preprocessed</th>\n",
              "      <th>Lemmatized</th>\n",
              "      <th>Type</th>\n",
              "    </tr>\n",
              "  </thead>\n",
              "  <tbody>\n",
              "    <tr>\n",
              "      <th>0</th>\n",
              "      <td>0</td>\n",
              "      <td>http:^^www.cs.wisc.edu^~cs564-1^cs564.html</td>\n",
              "      <td>\\n\\nCS 564 - Database Management Systems: Desi...</td>\n",
              "      <td>cs database management systems design implemen...</td>\n",
              "      <td>c database management system design implementa...</td>\n",
              "      <td>Course</td>\n",
              "    </tr>\n",
              "    <tr>\n",
              "      <th>1</th>\n",
              "      <td>1</td>\n",
              "      <td>http:^^www.cs.washington.edu^education^courses...</td>\n",
              "      <td>\\nCSE 413 (Winter 1996) Home Page\\n\\nCSE 413 ...</td>\n",
              "      <td>cse winter home page cse winter programming la...</td>\n",
              "      <td>cse winter home page cse winter programming la...</td>\n",
              "      <td>Course</td>\n",
              "    </tr>\n",
              "    <tr>\n",
              "      <th>2</th>\n",
              "      <td>2</td>\n",
              "      <td>http:^^www.cs.wisc.edu^~ferris^cs719.html</td>\n",
              "      <td>\\n\\n CS 719, Spring 1996  \\n\\n\\n\\n\\n CS 719: N...</td>\n",
              "      <td>cs spring cs network flows spring schedule lec...</td>\n",
              "      <td>c spring c network flow spring schedule lectur...</td>\n",
              "      <td>Course</td>\n",
              "    </tr>\n",
              "    <tr>\n",
              "      <th>3</th>\n",
              "      <td>3</td>\n",
              "      <td>http:^^www.cs.washington.edu^education^courses...</td>\n",
              "      <td>\\n\\nCSE 451 Home Page\\n\\n\\n\\nCSE 451\\nIntroduc...</td>\n",
              "      <td>cse home page cse introduction operating syste...</td>\n",
              "      <td>cse home page cse introduction operating syste...</td>\n",
              "      <td>Course</td>\n",
              "    </tr>\n",
              "    <tr>\n",
              "      <th>4</th>\n",
              "      <td>4</td>\n",
              "      <td>http:^^www.cs.wisc.edu^~turnidge^cs302.html</td>\n",
              "      <td>\\n\\nCS302, Section 19\\n\\n\\nComputer Science 30...</td>\n",
              "      <td>cs section computer science section time mwf p...</td>\n",
              "      <td>c section computer science section time mwf pl...</td>\n",
              "      <td>Course</td>\n",
              "    </tr>\n",
              "  </tbody>\n",
              "</table>\n",
              "</div>\n",
              "      <button class=\"colab-df-convert\" onclick=\"convertToInteractive('df-c77f3f91-12c8-4935-b6c6-92d5c90a8d94')\"\n",
              "              title=\"Convert this dataframe to an interactive table.\"\n",
              "              style=\"display:none;\">\n",
              "        \n",
              "  <svg xmlns=\"http://www.w3.org/2000/svg\" height=\"24px\"viewBox=\"0 0 24 24\"\n",
              "       width=\"24px\">\n",
              "    <path d=\"M0 0h24v24H0V0z\" fill=\"none\"/>\n",
              "    <path d=\"M18.56 5.44l.94 2.06.94-2.06 2.06-.94-2.06-.94-.94-2.06-.94 2.06-2.06.94zm-11 1L8.5 8.5l.94-2.06 2.06-.94-2.06-.94L8.5 2.5l-.94 2.06-2.06.94zm10 10l.94 2.06.94-2.06 2.06-.94-2.06-.94-.94-2.06-.94 2.06-2.06.94z\"/><path d=\"M17.41 7.96l-1.37-1.37c-.4-.4-.92-.59-1.43-.59-.52 0-1.04.2-1.43.59L10.3 9.45l-7.72 7.72c-.78.78-.78 2.05 0 2.83L4 21.41c.39.39.9.59 1.41.59.51 0 1.02-.2 1.41-.59l7.78-7.78 2.81-2.81c.8-.78.8-2.07 0-2.86zM5.41 20L4 18.59l7.72-7.72 1.47 1.35L5.41 20z\"/>\n",
              "  </svg>\n",
              "      </button>\n",
              "      \n",
              "  <style>\n",
              "    .colab-df-container {\n",
              "      display:flex;\n",
              "      flex-wrap:wrap;\n",
              "      gap: 12px;\n",
              "    }\n",
              "\n",
              "    .colab-df-convert {\n",
              "      background-color: #E8F0FE;\n",
              "      border: none;\n",
              "      border-radius: 50%;\n",
              "      cursor: pointer;\n",
              "      display: none;\n",
              "      fill: #1967D2;\n",
              "      height: 32px;\n",
              "      padding: 0 0 0 0;\n",
              "      width: 32px;\n",
              "    }\n",
              "\n",
              "    .colab-df-convert:hover {\n",
              "      background-color: #E2EBFA;\n",
              "      box-shadow: 0px 1px 2px rgba(60, 64, 67, 0.3), 0px 1px 3px 1px rgba(60, 64, 67, 0.15);\n",
              "      fill: #174EA6;\n",
              "    }\n",
              "\n",
              "    [theme=dark] .colab-df-convert {\n",
              "      background-color: #3B4455;\n",
              "      fill: #D2E3FC;\n",
              "    }\n",
              "\n",
              "    [theme=dark] .colab-df-convert:hover {\n",
              "      background-color: #434B5C;\n",
              "      box-shadow: 0px 1px 3px 1px rgba(0, 0, 0, 0.15);\n",
              "      filter: drop-shadow(0px 1px 2px rgba(0, 0, 0, 0.3));\n",
              "      fill: #FFFFFF;\n",
              "    }\n",
              "  </style>\n",
              "\n",
              "      <script>\n",
              "        const buttonEl =\n",
              "          document.querySelector('#df-c77f3f91-12c8-4935-b6c6-92d5c90a8d94 button.colab-df-convert');\n",
              "        buttonEl.style.display =\n",
              "          google.colab.kernel.accessAllowed ? 'block' : 'none';\n",
              "\n",
              "        async function convertToInteractive(key) {\n",
              "          const element = document.querySelector('#df-c77f3f91-12c8-4935-b6c6-92d5c90a8d94');\n",
              "          const dataTable =\n",
              "            await google.colab.kernel.invokeFunction('convertToInteractive',\n",
              "                                                     [key], {});\n",
              "          if (!dataTable) return;\n",
              "\n",
              "          const docLinkHtml = 'Like what you see? Visit the ' +\n",
              "            '<a target=\"_blank\" href=https://colab.research.google.com/notebooks/data_table.ipynb>data table notebook</a>'\n",
              "            + ' to learn more about interactive tables.';\n",
              "          element.innerHTML = '';\n",
              "          dataTable['output_type'] = 'display_data';\n",
              "          await google.colab.output.renderOutput(dataTable, element);\n",
              "          const docLink = document.createElement('div');\n",
              "          docLink.innerHTML = docLinkHtml;\n",
              "          element.appendChild(docLink);\n",
              "        }\n",
              "      </script>\n",
              "    </div>\n",
              "  </div>\n",
              "  "
            ]
          },
          "metadata": {},
          "execution_count": 8
        }
      ]
    },
    {
      "cell_type": "markdown",
      "source": [
        "# Creating Noun Dictionary"
      ],
      "metadata": {
        "id": "lyEZIqzqpEXC"
      }
    },
    {
      "cell_type": "code",
      "source": [
        "nounFrequency = defaultdict()\n",
        "\n",
        "def createNounFrequency(sentence):\n",
        "    token_words = word_tokenize(sentence)\n",
        "\n",
        "    \"\"\"Checking if the word is noun or not\"\"\"\n",
        "    \n",
        "    for word in token_words:\n",
        "        ans = nltk.pos_tag(word)\n",
        "        val = ans[0][1]\n",
        "        if(val == 'NN' or val == 'NNS' or val == 'NNPS' or val == 'NNP'):\n",
        "            if word in nounFrequency:\n",
        "                count = nounFrequency[word]\n",
        "                nounFrequency[word] = count + 1\n",
        "            else:\n",
        "                nounFrequency[word] = 1\n",
        "   "
      ],
      "metadata": {
        "id": "ygClLROCyRmc"
      },
      "execution_count": 10,
      "outputs": []
    },
    {
      "cell_type": "code",
      "source": [
        "raw_data[\"Lemmatized\"].apply(lambda x: createNounFrequency(x))"
      ],
      "metadata": {
        "colab": {
          "base_uri": "https://localhost:8080/"
        },
        "id": "Rv15mmdlyZjc",
        "outputId": "9f34e4c0-a4b7-48a2-e303-e1453aa8750a"
      },
      "execution_count": 11,
      "outputs": [
        {
          "output_type": "execute_result",
          "data": {
            "text/plain": [
              "0       None\n",
              "1       None\n",
              "2       None\n",
              "3       None\n",
              "4       None\n",
              "        ... \n",
              "1046    None\n",
              "1047    None\n",
              "1048    None\n",
              "1049    None\n",
              "1050    None\n",
              "Name: Lemmatized, Length: 1051, dtype: object"
            ]
          },
          "metadata": {},
          "execution_count": 11
        }
      ]
    },
    {
      "cell_type": "code",
      "source": [
        "\"\"\"Noun Selection\"\"\"\n",
        "\n",
        "#Sorting by their frequencies\n",
        "nounFrequency = sorted(nounFrequency.items(), key=lambda item: item[1])\n",
        "nounFrequency = list(nounFrequency)\n",
        "\n",
        "#Choosing the top 50 nouns based on frequency\n",
        "topFiftyNouns = nounFrequency[-50:]\n",
        "print(topFiftyNouns)"
      ],
      "metadata": {
        "colab": {
          "base_uri": "https://localhost:8080/"
        },
        "id": "9Z-8_ccHybd-",
        "outputId": "7c0139f0-75c2-4e6c-f57e-20b00e5bb554"
      },
      "execution_count": 12,
      "outputs": [
        {
          "output_type": "stream",
          "name": "stdout",
          "text": [
            "[('file', 305), ('conference', 308), ('proceeding', 310), ('phone', 313), ('texas', 314), ('object', 333), ('list', 334), ('exam', 338), ('computing', 339), ('r', 341), ('j', 342), ('distributed', 355), ('hour', 358), ('postscript', 360), ('design', 363), ('homework', 365), ('wisconsin', 365), ('b', 367), ('p', 392), ('cse', 397), ('link', 413), ('group', 417), ('problem', 417), ('work', 458), ('last', 462), ('wisc', 468), ('interest', 473), ('web', 521), ('e', 523), ('parallel', 523), ('lecture', 537), ('software', 556), ('engineering', 564), ('student', 570), ('time', 576), ('class', 601), ('language', 648), ('cornell', 652), ('program', 762), ('course', 776), ('programming', 830), ('department', 868), ('information', 923), ('project', 939), ('research', 1094), ('home', 1246), ('edu', 1331), ('system', 1731), ('computer', 2293), ('c', 3413)]\n"
          ]
        }
      ]
    },
    {
      "cell_type": "markdown",
      "source": [
        "# Creating Bi-grams"
      ],
      "metadata": {
        "id": "amtOqYtN98ZA"
      }
    },
    {
      "cell_type": "code",
      "source": [
        "corpusBigrams = []\n",
        "\n",
        "def createBigrams(sentence):\n",
        "  token_words = word_tokenize(sentence)\n",
        "  tempBigrams = list(nltk.bigrams(token_words))\n",
        "  for i in tempBigrams:\n",
        "    corpusBigrams.append(i)"
      ],
      "metadata": {
        "id": "sm61QutQygV0"
      },
      "execution_count": 13,
      "outputs": []
    },
    {
      "cell_type": "code",
      "source": [
        "for index , row in raw_data.iterrows():\n",
        "    createBigrams(row['Lemmatized'])"
      ],
      "metadata": {
        "id": "uq7bGnwMyilu"
      },
      "execution_count": 14,
      "outputs": []
    },
    {
      "cell_type": "code",
      "source": [
        "print(corpusBigrams[2:10])"
      ],
      "metadata": {
        "colab": {
          "base_uri": "https://localhost:8080/"
        },
        "id": "EhBenX2A1q-T",
        "outputId": "8080f27d-e891-408e-84fd-b887545d4073"
      },
      "execution_count": 15,
      "outputs": [
        {
          "output_type": "stream",
          "name": "stdout",
          "text": [
            "[('management', 'system'), ('system', 'design'), ('design', 'implementation'), ('implementation', 'c'), ('c', 'database'), ('database', 'management'), ('management', 'system'), ('system', 'design')]\n"
          ]
        }
      ]
    },
    {
      "cell_type": "code",
      "source": [
        "FiftyNouns = []\n",
        "for words in topFiftyNouns:\n",
        "  FiftyNouns.append(words[0])"
      ],
      "metadata": {
        "id": "uQdZJkLUylY9"
      },
      "execution_count": 16,
      "outputs": []
    },
    {
      "cell_type": "code",
      "source": [
        "\"\"\"Forming Co-Occurance\"\"\"\n",
        "\n",
        "#If the noun exists in bigram then shortlist it\n",
        "\n",
        "co_occurance = []\n",
        "\n",
        "for words in corpusBigrams:\n",
        "  if words[0] in FiftyNouns or words[1] in FiftyNouns:\n",
        "    if words[0] not in co_occurance:\n",
        "      co_occurance.append(words[0])\n",
        "    if words[1] not in co_occurance:\n",
        "      co_occurance.append(words[1])"
      ],
      "metadata": {
        "id": "D_EvunXZynhl"
      },
      "execution_count": 17,
      "outputs": []
    },
    {
      "cell_type": "code",
      "source": [
        "print(co_occurance)"
      ],
      "metadata": {
        "colab": {
          "base_uri": "https://localhost:8080/"
        },
        "id": "HCBrBEsCyrGd",
        "outputId": "996aec61-7109-4362-f6ce-54cf2e8e9efe"
      },
      "execution_count": 18,
      "outputs": [
        {
          "output_type": "stream",
          "name": "stdout",
          "text": [
            "['c', 'database', 'management', 'system', 'design', 'implementation', 'course', 'information', 'postscript', 'version', 'new', 'class', 'friday', 'office', 'hour', 'time', 'assignment', 'text', 'last', 'updated', 'handout', 'mailing', 'list', 'solution', 'exercise', 'first', 'day', 'overview', 'topic', 'minibase', 'home', 'page', 'html', 'year', 'sample', 'key', 'midterm', 'using', 'sybase', 'info', 'www', 'resource', 'tutorial', 'tree', 'language', 'construction', 'graded', 'experience', 'phone', 'e', 'mail', 'raghu', 'mw', 'pm', 'lecture', 'discussion', 'mwf', 'xbao', 'thur', 'modified', 'cse', 'winter', 'programming', 'tanimoto', 'department', 'computer', 'science', 'engineering', 'university', 'sln', 'schedule', 'tuesday', 'monday', 'sieg', 'archive', 'past', 'also', 'grading', 'homework', 'exam', 'final', 'project', 'participation', 'reading', 'online', 'throughout', 'including', 'logic', 'prolog', 'parsing', 'understanding', 'shell', 'expert', 'either', 'introduction', 'common', 'lisp', 'nd', 'file', 'get', 'program', 'element', 'edition', 'web', 'site', 'current', 'mcl', 'interesting', 'link', 'world', 'wide', 'application', 'material', 'another', 'java', 'trail', 'welcome', 'listing', 'called', 'compiler', 'building', 'attention', 'particular', 'intepreted', 'investigate', 'traditional', 'issue', 'visual', 'facility', 'january', 'quarter', 'student', 'use', 'unix', 'mscc', 'computing', 'center', 'variety', 'mathematica', 'offer', 'lex', 'software', 'macintosh', 'networked', 'easily', 'difficulty', 'work', 'pc', 'wish', 'extensive', 'development', 'one', 'special', 'deal', 'allowing', 'purchase', 'com', 'may', 'tool', 'given', 'go', 'thompson', 'instead', 'moved', 'sent', 'news', 'group', 'regarding', 'path', 'rea', 'today', 'copy', 'click', 'emailing', 'mac', 'tokenize', 'run', 'february', 'review', 'covered', 'help', 'check', 'received', 'part', 'b', 'free', 'viewer', 'completing', 'general', 'scheduled', 'multiple', 'pencil', 'closed', 'due', 'writeups', 'milestone', 'th', 'show', 'window', 'demonstration', 'march', 'washington', 'edu', 'spring', 'network', 'wisc', 'michael', 'ferris', 'telephone', 'cae', 'linear', 'v', 'prerequisite', 'knowledge', 'grade', 'april', 'week', 'room', 'orientation', 'session', 'minute', 'cp', 'public', 'machine', 'lab', 'mathematical', 'uw', 'operating', 'autumn', 'bershad', 'instructor', 'mf', 'choi', 'ta', 'section', 'w', 'appointment', 'intro', 'admin', 'outline', 'wisdom', 'message', 'archived', 'pace', 'note', 'slide', 'description', 'related', 'old', 'available', 'carefully', 'vital', 'hint', 'personal', 'feedback', 'lost', 'webmaster', 'tba', 'announcement', 'useful', 'read', 'syllabus', 'collection', 'date', 'send', 'whole', 'much', 'interest', 'tutor', 'email', 'netscape', 'find', 'provided', 'sharp', 'turnidge', 'short', 'document', 'contains', 'keep', 'added', 'copyright', 'subject', 'installed', 'importance', 'modelling', 'october', 'laborde', 'j', 'problem', 'solving', 'intelligent', 'environment', 'november', 'bartels', 'possibility', 'annotation', 'dec', 'toolkit', 'smart', 'distributed', 'http', 'proceeding', 'paper', 'empowering', 'age', 'uiuc', 'sdg', 'educ', 'dce', 'navigator', 'update', 'foundation', 'intelligence', 'cornell', 'code', 'via', 'upson', 'alternate', 'g', 'lunch', 'organizer', 'meeting', 'mor', 'selection', 'presentation', 'progress', 'architecture', 'research', 'lead', 'credit', 'variable', 'follow', 'asplos', 'advance', 'put', 'james', 'r', 'goodman', 'wisconsin', 'madison', 'technical', 'subscribe', 'majordomo', 'baer', 'cover', 'writes', 'ibm', 'server', 'chip', 'heavy', 'workload', 'summer', 'planning', 'take', 'life', 'five', 'directory', 'submission', 'study', 'performance', 'oct', 'mimic', 'devise', 'manual', 'please', 'print', 'half', 'initialization', 'miron', 'teaching', 'tr', 'cychan', 'suggestion', 'graphic', 'platform', 'library', 'workstation', 'instruction', 'mesa', 'tk', 'second', 'required', 'sally', 'slpeters', 'facstaff', 'place', 'held', 'hall', 'technology', 'peterson', 'designed', 'crack', 'see', 'two', 'discus', 'generic', 'term', 'iici', 'following', 'word', 'eudora', 'well', 'necessary', 'quiz', 'regular', 'gritty', 'detail', 'excel', 'multimedia', 'content', 'textbook', 'requirement', 'title', 'synopsis', 'advanced', 'discussed', 'include', 'protocol', 'support', 'article', 'enrolling', 'carry', 'tay', 'vin', 'utexas', 'video', 'acm', 'wakeman', 'crowcroft', 'conference', 'control', 'gajewska', 'kistler', 'argo', 'collaboration', 'conferencing', 'p', 'zellweger', 'swinehart', 'venkat', 'ieee', 'vol', 'transaction', 'ballardie', 'francis', 'routing', 'sigcomm', 'thyagarajan', 'deering', 'mbone', 'boston', 'widyono', 'evaluation', 'real', 'channel', 'kompella', 'pasquale', 'polyzos', 'zhang', 'liu', 'framing', 'singhal', 'cheriton', 'multicast', 'interactive', 'simulation', 'analysis', 'communication', 'infocom', 'service', 'guyton', 'mogul', 'warldersburg', 'weihl', 'mangement', 'osdi', 'tm', 'golestani', 'govindan', 'anderson', 'medium', 'principle', 'producer', 'applied', 'k', 'shared', 'seattle', 'qbic', 'querying', 'journal', 'bach', 'paul', 'jain', 'face', 'retrieval', 'data', 'weymouth', 'model', 'international', 'large', 'fall', 'automaton', 'latex', 'beame', 'structure', 'lecs', 'psychology', 'makeup', 'done', 'adt', 'created', 'error', 'sol', 'wednesday', 'getting', 'source', 'must', 'reload', 'browser', 'outdated', 'stale', 'listed', 'mon', 'chapter', 'queue', 'overloading', 'hash', 'stack', 'linked', 'pointer', 'sorting', 'basic', 'focus', 'appendix', 'lecturer', 'skrentny', 'bail', 'jiacheng', 'beginning', 'level', 'al', 'watt', 'currently', 'leader', 'visualization', 'theory', 'summary', 'staff', 'math', 'artistic', 'fundamental', 'polygon', 'parametric', 'tesselation', 'surface', 'simple', 'object', 'form', 'kinematic', 'prototype', 'dynamical', 'animation', 'viewing', 'camera', 'screen', 'parallel', 'projection', 'clip', 'stereo', 'method', 'space', 'field', 'dynamic', 'administrivia', 'jan', 'feb', 'prelim', 'holiday', 'ny', 'intending', 'period', 'tc', 'jing', 'huang', 'ioi', 'justin', 'jmccune', 'relevant', 'land', 'location', 'set', 'pertaining', 'suggested', 'newsgroup', 'instructional', 'ua', 'expect', 'appropriate', 'tomorrow', 'technique', 'caching', 'operation', 'security', 'integrate', 'used', 'implement', 'depending', 'presented', 'size', 'allow', 'memory', 'kernel', 'weak', 'written', 'f', 'receive', 'better', 'three', 'permitted', 'however', 'start', 'choose', 'skill', 'subsequent', 'clear', 'can', 'algorithm', 'snapshot', 'asynchronous', 'depend', 'correct', 'prove', 'urge', 'solve', 'visiting', 'taking', 'computation', 'stable', 'derived', 'specific', 'ideally', 'process', 'monitor', 'point', 'describing', 'joshi', 'rajeev', 'homepage', 'ut', 'austin', 'taught', 'george', 'printed', 'hw', 'found', 'weekly', 'ngk', 'xun', 'xfeng', 'table', 'guide', 'download', 'scored', 'wwang', 'afternoon', 'ajit', 'cc', 'format', 'nov', 'kumar', 'texas', 'organization', 'meet', 'snyder', 'assistant', 'jwatson', 'thursday', 'chensg', 'catalog', 'function', 'arithmetic', 'hardware', 'hierarchy', 'component', 'laboratory', 'involves', 'sep', 'alu', 'color', 'h', 'chap', 'pipeline', 'verilog', 'segment', 'assembly', 'asm', 'ece', 'processor', 'addressing', 'req', 'semesterly', 'reflects', 'practical', 'look', 'compile', 'turn', 'electronically', 'crude', 'correspondence', 'pascal', 'answer', 'proposal', 'mid', 'completion', 'ho', 'stats', 'survey', 'outside', 'offered', 'give', 'solid', 'background', 'dbms', 'possibly', 'piece', 'certainly', 'surprisingly', 'community', 'addressed', 'access', 'become', 'engineer', 'company', 'researcher', 'develop', 'domain', 'really', 'number', 'introductory', 'different', 'tentative', 'concept', 'possible', 'fraction', 'reference', 'involving', 'writing', 'additional', 'around', 'important', 'involve', 'amount', 'alone', 'person', 'proportionally', 'goal', 'huge', 'rarely', 'associated', 'provides', 'various', 'come', 'consequently', 'specification', 'interface', 'developing', 'could', 'familiar', 'recommend', 'needed', 'predator', 'want', 'lower', 'neither', 'idea', 'suitable', 'talk', 'certain', 'ordered', 'functionality', 'produce', 'working', 'graduate', 'morgan', 'many', 'benjamin', 'assigned', 'evening', 'praveen', 'weitsang', 'dml', 'retrieve', 'test', 'recovery', 'emp', 'bin', 'running', 'since', 'passed', 'failed', 'index', 'previous', 'earlier', 'notice', 'instance', 'degree', 'college', 'portion', 'credited', 'comment', 'almstrum', 'linyuan', 'undergraduate', 'procedure', 'result', 'siguccs', 'based', 'physic', 'enrolled', 'sparse', 'golub', 'van', 'erisman', 'halmos', 'graph', 'efficient', 'equivalent', 'major', 'plus', 'transparency', 'ranking', 'dvi', 'supercomputer', 'ram', 'would', 'maybe', 'smpc', 'spend', 'uniform', 'sense', 'log', 'four', 'challenging', 'going', 'require', 'happy', 'teach', 'art', 'chose', 'flexible', 'open', 'mind', 'nice', 'others', 'energy', 'symbolic', 'raymond', 'mooney', 'ramachandran', 'geo', 'sheet', 'case', 'u', 'trace', 'engr', 'martin', 'bounty', 'item', 'frequently', 'watch', 'change', 'examination', 'etc', 'user', 'demo', 'question', 'janosi', 'intended', 'experimental', 'protection', 'requires', 'propose', 'detailed', 'encouraged', 'sunos', 'report', 'count', 'make', 'choosing', 'team', 'assigments', 'semester', 'high', 'school', 'changed', 'next', 'taken', 'scheme', 'move', 'emphasize', 'syntax', 'lot', 'hard', 'surfing', 'manipulation', 'vocabulary', 'translation', 'thurs', 'search', 'account', 'leave', 'without', 'abandoned', 'remember', 'unattended', 'end', 'dept', 'ed', 'kelly', 'bockrath', 'jfink', 'ashraf', 'geery', 'jherro', 'wf', 'agupta', 'jyothi', 'suhui', 'tsiolis', 'explore', 'whose', 'exploration', 'alphabetical', 'cool', 'especially', 'excellent', 'practicum', 'hoca', 'console', 'configuration', 'accessable', 'post', 'trn', 'example', 'feature', 'kind', 'least', 'artificial', 'learning', 'continuing', 'status', 'neural', 'right', 'explanation', 'peer', 'june', 'internet', 'write', 'executed', 'follows', 'sew', 'generated', 'future', 'begun', 'developer', 'glimpse', 'area', 'except', 'anyone', 'displaying', 'good', 'improvement', 'bring', 'cacm', 'filtering', 'entire', 'address', 'seminar', 'n', 'brad', 'eric', 'quadratic', 'chuck', 'jonathan', 'algebraic', 'complaint', 'coordinator', 'mainly', 'policy', 'misconduct', 'subdirectory', 'savitch', 'borland', 'integrated', 'fortran', 'lampert', 'host', 'disk', 'core', 'thanksgiving', 'remote', 'global', 'reviewchapter', 'vernon', 'prepare', 'elementary', 'prior', 'assumed', 'little', 'primarily', 'non', 'punctual', 'avoid', 'disturbing', 'rm', 'wed', 'emergency', 'tick', 'coming', 'way', 'anything', 'trying', 'koffman', 'friedman', 'line', 'every', 'hand', 'failing', 'gradesheets', 'cheating', 'consultant', 'wear', 'contact', 'name', 'learn', 'programmer', 'understand', 'able', 'trivial', 'think', 'overall', 'prefer', 'dorm', 'do', 'keyword', 'bestor', 'purpose', 'provide', 'tmunson', 'walter', 'expectation', 'daily', 'storage', 'presenter', 'mobile', 'weldweld', 'friedmanfriedman', 'kushmericknick', 'oriented', 'lavender', 'appt', 'gokul', 'tth', 'esb', 'already', 'objective', 'opportunity', 'computational', 'pattern', 'constructing', 'proficiently', 'cay', 'mastering', 'john', 'drawn', 'stroustrup', 'elli', 'annotated', 'wesley', 'evolution', 'addison', 'cargill', 'style', 'lomow', 'faq', 'coplien', 'plauger', 'standard', 'gamma', 'helm', 'johnson', 'vlissides', 'reusable', 'newsgroups', 'strongly', 'usenet', 'lang', 'comp', 'std', 'gnu', 'oop', 'know', 'dead', 'draft', 'pdf', 'stl', 'gwu', 'mirror', 'ftp', 'virtual', 'javasoft', 'centre', 'applet', 'dennis', 'virginia', 'schmidt', 'lea', 'digital', 'ted', 'savac', 'richard', 'richin', 'howard', 'shchang', 'borriello', 'vlsi', 'comprehensivelist', 'phl', 'taylor', 'blurb', 'specifying', 'interact', 'examine', 'formal', 'pair', 'coq', 'qed', 'oral', 'miller', 'posted', 'printing', 'bart', 'muthiah', 'weyers', 'organized', 'tanenbaum', 'pohl', 'favorite', 'book', 'modern', 'store', 'tolerant', 'us', 'synchronization', 'drive', 'analyzing', 'handed', 'late', 'accepted', 'partner', 'independently', 'cheater', 'marked', 'transcript', 'x', 'registered', 'counted', 'gpa', 'range', 'device', 'tah', 'glew', 'tu', 'september', 'lambda', 'gries', 'ml', 'december', 'holden', 'turnin', 'st', 'third', 'emacs', 'refcard', 'allegro', 'type', 'redstone', 'begin', 'normal', 'burnaby', 'canada', 'recognition', 'image', 'actively', 'pvm', 'layear', 'paragon', 'zpl', 'maspar', 'correction', 'started', 'ee', 'ladner', 'wchan', 'overhead', 'markup', 'thing', 'ghostscript', 'su', 'mhr', 'greedy', 'matroids', 'dijkstra', 'bellman', 'matrix', 'closure', 'binomial', 'heap', 'fibonacci', 'treaps', 'randomized', 'union', 'maxflow', 'theorem', 'push', 'cryptography', 'diz', 'hqliu', 'ciphertext', 'french', 'sml', 'garbage', 'construct', 'functional', 'notably', 'jgm', 'evan', 'mark', 'fox', 'nj', 'kimball', 'representation', 'unit', 'rtl', 'best', 'mate', 'conotes', 'marshall', 'procedural', 'like', 'yahoo', 'surf', 'several', 'thorsten', 'initial', 'split', 'cache', 'mpp', 'net', 'sp', 'em', 'msgpass', 'mpi', 'cachecoh', 'lock', 'thread', 'atm', 'scoreboard', 'tomasulo', 'br', 'pred', 'superscalar', 'io', 'bus', 'pentium', 'unique', 'explosion', 'resulted', 'interprocess', 'behind', 'context', 'occasionally', 'roster', 'interpretation', 'fix', 'processing', 'multi', 'cam', 'lib', 'walker', 'hummert', 'statistic', 'mining', 'daniel', 'miranker', 'trend', 'covering', 'recent', 'followed', 'expected', 'critique', 'contribution', 'additionally', 'determined', 'harrick', 'prashant', 'shenoy', 'packet', 'tx', 'compression', 'steinmetz', 'goyal', 'gemmell', 'kandlur', 'rao', 'array', 'icmcs', 'ftc', 'chiueh', 'yu', 'reddy', 'wyllie', 'sitaram', 'shahabuddin', 'ramanathan', 'rangan', 'entertainment', 'ferrari', 'verma', 'discipline', 'august', 'appear', 'salehi', 'kurose', 'smoothing', 'scale', 'traffic', 'kanakia', 'misra', 'transport', 'turner', 'busse', 'deffner', 'rtp', 'blakowski', 'campbell', 'robin', 'shepherd', 'qos', 'chorus', 'druschel', 'abbott', 'subsystem', 'hank', 'grove', 'administrative', 'save', 'figure', 'includes', 'employee', 'offering', 'administrator', 'everyone', 'administration', 'gaetano', 'wth', 'corin', 'maintained', 'author', 'katz', 'aided', 'cad', 'synario', 'completed', 'uwisc', 'finding', 'professor', 'univ', 'interested', 'complete', 'proceed', 'belew', 'sept', 'numerical', 'aug', 'doit', 'stat', 'deboor', 'concerning', 'might', 'mesquite', 'inc', 'rui', 'yangyang', 'asg', 'shavlik', 'geoffrey', 'readable', 'training', 'inducing', 'creating', 'id', 'heuristically', 'aq', 'bp', 'ga', 'cobweb', 'uc', 'aha', 'people', 'tip', 'local', 'ai', 'wilson', 'declarative', 'browsing', 'ahead', 'likely', 'interactively', 'definition', 'stuff', 'consult', 'commented', 'animal', 'picture', 'showing', 'metaclass', 'illustrating', 'main', 'sparcs', 'solaris', 'aix', 'command', 'kolbly', 'gambit', 'rscheme', 'networking', 'lhl', 'nsp', 'convenient', 'na', 'ben', 'powerpoint', 'stevens', 'isbn', 'li', 'proj', 'garbler', 'href', 'cancellation', 'jerry', 'tutsch', 'cs', 'smoler', 'tuth', 'ssuen', 'sridevi', 'wr', 'bsri', 'mohammad', 'nonlinear', 'url', 'jye', 'olvi', 'sherali', 'shetty', 'bertsekas', 'sup', 'generalization', 'milo', 'couple', 'reminder', 'bankaccount', 'minmax', 'maximum', 'specified', 'introduced', 'call', 'virus', 'tbd', 'known', 'delivered', 'chosen', 'documented', 'interior', 'sean', 'particle', 'diffusely', 'pollutant', 'semantics', 'scribed', 'though', 'conduct', 'tech', 'mechanism', 'compute', 'property', 'learned', 'carl', 'side', 'preferably', 'computability', 'phd', 'meng', 'ulfar', 'tue', 'uncomfortable', 'helpful', 'floor', 'melski', 'publishing', 'essential', 'structuresfall', 'yannis', 'vi', 'menu', 'woman', 'formed', 'majoring', 'suzan', 'grad', 'stodder', 'town', 'vldb', 'jim', 'aspect', 'giving', 'cchin', 'weiz', 'fluent', 'superior', 'growing', 'statement', 'productive', 'exception', 'abstraction', 'wall', 'separate', 'often', 'david', 'dewitt', 'entrance', 'need', 'activating', 'manipulating', 'compiling', 'debugging', 'desk', 'mentioned', 'determine', 'chemistry', 'app', 'binary', 'hashing', 'recursion', 'avl', 'announced', 'photo', 'proficiency', 'designated', 'finally', 'notify', 'wait', 'communicate', 'obey', 'governing', 'explain', 'still', 'correctness', 'behave', 'input', 'stated', 'clarity', 'easy', 'situation', 'handle', 'demonstrate', 'facet', 'capability', 'modularity', 'modular', 'incorporate', 'generality', 'top', 'value', 'classname', 'meaningfully', 'superficially', 'tell', 'unaware', 'included', 'applies', 'extra', 'conveyed', 'supplied', 'early', 'painful', 'cycle', 'edit', 'compilation', 'inputfile', 'pr', 'goto', 'debug', 'gdb', 'actor', 'natural', 'story', 'weber', 'vineet', 'buch', 'none', 'samuel', 'registration', 'prepared', 'nowitz', 'rdb', 'stop', 'attend', 'reliable', 'extensible', 'dahlin', 'cluster', 'novak', 'reuse', 'alvisi', 'academia', 'collecting', 'enabling', 'highly', 'cooperative', 'power', 'infrastructure', 'critical', 'algorithmic', 'multithreaded', 'cilk', 'runtime', 'adaptive', 'within', 'addition', 'continue', 'automatically', 'xfs', 'wfs', 'ssh', 'relation', 'usual', 'vladimir', 'view', 'fact', 'sufficient', 'concerned', 'scientific', 'even', 'isolating', 'concern', 'integration', 'ilp', 'chill', 'built', 'foidl', 'jr', 'assumption', 'reusing', 'difficult', 'automatic', 'specialized', 'desired', 'serve', 'theoretical', 'sequential', 'deterministic', 'tarjan', 'combinatorial', 'describe', 'massively', 'portably', 'allows', 'adapatable', 'prereq', 'permission', 'prakas', 'nawaaz', 'motd', 'prerequsites', 'logical', 'emphasis', 'sharing', 'impact', 'permit', 'serverless', 'distribute', 'completely', 'collaborate', 'induprakas', 'uncertainty', 'making', 'whenever', 'member', 'request', 'jaynes', 'historical', 'graphical', 'arranged', 'kunen', 'counting', 'turned', 'midnight', 'searching', 'playing', 'supplement', 'norvig', 'lec', 'recitation', 'usually', 'beta', 'astar', 'older', 'manning', 'rmanning', 'basement', 'saturday', 'football', 'although', 'priority', 'upcoming', 'logged', 'userid', 'condon', 'kayee', 'vision', 'dyer', 'scene', 'dimensional', 'algebra', 'kasturi', 'sold', 'score', 'board', 'feel', 'skeleton', 'vista', 'city', 'infinity', 'chessboard', 'vlink', 'vsegedges', 'shape', 'suen', 'fast', 'lu', 'wang', 'comparison', 'burt', 'comm', 'produced', 'segmentation', 'int', 'estimation', 'sure', 'executables', 'display', 'khoros', 'classroom', 'starting', 'wandell', 'hdtv', 'television', 'committee', 'spie', 'apple', 'reality', 'miscellaneous', 'royal', 'enable', 'essentially', 'tony', 'silva', 'sidney', 'birk', 'russell', 'reames', 'participating', 'evidence', 'mp', 'flow', 'integer', 'matlab', 'stressed', 'nikos', 'ozan', 'pre', 'loan', 'sibley', 'rensselaer', 'collected', 'handled', 'july', 'add', 'deadline', 'drop', 'plan', 'stand', 'hqx', 'm', 'order', 'an', 'hcl', 'enumerated', 'prog', 'something', 'matter', 'got', 'mean', 'attendance', 'baker', 'codewarrior', 'pierce', 'propositional', 'proving', 'concentrate', 'complex', 'amusement', 'provers', 'mbirk', 'kenneth', 'birman', 'lili', 'ychuang', 'budiu', 'chateau', 'erratum', 'yes', 'preview', 'script', 'cancelled', 'lack', 'told', 'verify', 'consist', 'upon', 'together', 'okay', 'classmate', 'gilligan', 'boeing', 'leveson', 'industrial', 'portfolio', 'successfully', 'interaction', 'lasting', 'participant', 'realistic', 'enough', 'organizing', 'effectively', 'headed', 'setting', 'cmu', 'institute', 'master', 'attached', 'role', 'phase', 'act', 'manager', 'verification', 'professionalism', 'embedded', 'safety', 'responsible', 'updating', 'tracking', 'principal', 'creation', 'product', 'consistency', 'existing', 'primary', 'designer', 'secure', 'human', 'ensuring', 'duty', 'expertise', 'maintenance', 'tuc', 'sundaram', 'clarification', 'society', 'highway', 'borning', 'tues', 'small', 'consent', 'incl', 'ethic', 'breaking', 'enscript', 'pfile', 'txt', 'generate', 'printer', 'modification', 'jfoster', 'contest', 'announce', 'olin', 'everything', 'daywhenwherewho', 'studying', 'enhance', 'intermediate', 'proof', 'hal', 'alan', 'kwan', 'consulting', 'effect', 'sunday', 'macbinary', 'contain', 'rich', 'parseable', 'binhqx', 'preliminary', 'allocation', 'fine', 'notation', 'triple', 'loop', 'gofer', 'currying', 'filter', 'iteration', 'framework', 'strength', 'processed', 'aladdin', 'cell', 'character', 'dictionary', 'systemsz', 'yale', 'pub', 'let', 'cuinfo', 'expander', 'hypermedia', 'pighin', 'personnel', 'calendar', 'artifact', 'documentation', 'hearn', 'sgi', 'mvis', 'scheduling', 'station', 'mib', 'md', 'mobility', 'yufeng', 'finger', 'ring', 'tompa', 'acrobat', 'karlin', 'linux', 'fewer', 'preferable', 'smaller', 'aberman', 'horwitz', 'rahul', 'porter', 'unable', 'putting', 'dr', 'reviewing', 'upto', 'length', 'tuned', 'welch', 'tp', 'dwip', 'electrical', 'valid', 'refer', 'architect', 'wiscinfo', 'thus', 'parter', 'weld', 'regularly', 'official', 'mosaic', 'hypertext', 'chamber', 'jdean', 'dave', 'cecil', 'turorial', 'sort', 'vortex', 'leone', 'dzimm', 'ready', 'referenced', 'digit', 'spec', 'cpu', 'alternative', 'choice', 'pipelining', 'interconnection', 'undertake', 'patteson', 'checkpoint', 'apr', 'preseantations', 'fri', 'bibliography', 'lin', 'tera', 'logp', 'spent', 'partitioning', 'shapiro', 'denisep', 'insertion', 'hardcopy', 'incorrect', 'revised', 'moran', 'kozen', 'addendum', 'motwani', 'greg', 'krisna', 'startup', 'porgramming', 'mathematics', 'fr', 'gloria', 'jonb', 'mound', 'wi', 'prock', 'whh', 'complexity', 'now', 'ousterhout', 'concurrent', 'rd', 'conf', 'arpaci', 'dusseau', 'nguyen', 'vaswani', 'zahorjan', 'characteristic', 'evangelos', 'markatos', 'thomas', 'leblanc', 'trans', 'pp', 'han', 'zima', 'proc', 'sussman', 'saltz', 'l', 'bunt', 'multiprogrammed', 'sigmetrics', 'measurement', 'modeling', 'santa', 'sevcik', 'distribution', 'strategy', 'production', 'mccann', 'william', 'coscheduling', 'job', 'migration', 'burger', 'hyder', 'tradeoff', 'kahan', 'korry', 'smith', 'culler', 'effective', 'philadelphia', 'hot', 'topology', 'electronic', 'detector', 'dsm', 'levy', 'ramblings', 'construcing', 'halting', 'undecidable', 'state', 'diagram', 'pda', 'naming', 'rest', 'structured', 'according', 'successful', 'participate', 'unhappy', 'extension', 'fellow', 'noon', 'somani', 'eeb', 'jari', 'consultation', 'disabled', 'studied', 'significant', 'ranging', 'internetworking', 'trough', 'earned', 'developed', 'offcial', 'dsilva', 'bi', 'bboard', 'ruzzo', 'mechanical', 'pphone', 'setup', 'desire', 'solomon', 'mellen', 'avaiable', 'salt', 'long', 'ago', 'direction', 'bug', 'described', 'shown', 'acyclic', 'fork', 'receiving', 'makefile', 'aware', 'create', 'named', 'among', 'raised', 'andrew', 'ken', 'sun', 'package', 'congenial', 'caught', 'history', 'byproduct', 'always', 'arnold', 'primer', 'sophisticated', 'buffer', 'dining', 'thu', 'pai', 'mr', 'wwd', 'raji', 'reserve', 'behaviour', 'pas', 'identifed', 'dissertation', 'phillips', 'motion', 'guest', 'cont', 'eigenhausdorff', 'quote', 'sentence', 'sigma', 'amortized', 'ot', 'total', 'worst', 'posting', 'map', 'lazowska', 'ebeling', 'hineskj', 'mcmurchie', 'larry', 'synthesis', 'pamette', 'mother', 'comic', 'individual', 'frame', 'motw', 'downloads', 'goofy', 'dwu', 'notkin', 'generation', 'executable', 'ordinary', 'illustrate', 'latter', 'literature', 'matching', 'gordon', 'optional', 'roughly', 'query', 'inverted', 'vector', 'summarization', 'recommended', 'elmasri', 'base', 'ullman', 'spg', 'aguilera', 'amith', 'worth', 'clearly', 'illegible', 'alphabetically', 'perot', 'returned', 'sorted', 'indexing', 'clustering', 'wealth', 'derose', 'kepart', 'cubicle', 'threaded', 'single', 'leaven', 'self', 'geneva', 'dylan', 'risto', 'jbednar', 'activity', 'miikkulainen', 'questionnaire', 'cognitive', 'sign', 'made', 'locative', 'deletemin', 'scott', 'kevin', 'rubix', 'limited', 'worry', 'per', 'claire', 'unless', 'kb', 'pcrowley', 'unisql', 'oo', 'back', 'msteele', 'filled', 'functioning', 'bit', 'quarterly', 'breadth', 'wireless', 'fernando', 'corbato', 'robert', 'daley', 'afips', 'joint', 'multiprogramming', 'bensoussan', 'clingen', 'renesse', 'silberschatz', 'multiprocessor', 'barrera', 'usenix', 'douglis', 'berlin', 'execution', 'beyond', 'karshmer', 'nehmer', 'sandberg', 'kleiman', 'nfs', 'joy', 'leffler', 'fabry', 'rosenblum', 'schroeder', 'gifford', 'needham', 'terry', 'se', 'symposium', 'princeton', 'accetta', 'baron', 'rashid', 'versus', 'triggered', 'ramamritham', 'stankovic', 'tokuda', 'mercer', 'badrinath', 'satyanarayanan', 'okasaki', 'siegel', 'seven', 'highest', 'lowest', 'constitute', 'approximately', 'calculator', 'contributing', 'pg', 'jayram', 'loew', 'carlson', 'prentice', 'defense', 'atkinson', 'readme', 'brill', 'speech', 'nlp', 'zp', 'dramatically', 'simplifies', 'eliminating', 'largest', 'scientist', 'perform', 'faster', 'prototyping', 'rely', 'audit', 'selected', 'sung', 'rc', 'ravi', 'pavel', 'larus', 'block', 'reiterate', 'abstract', 'maintainable', 'close', 'chin', 'basis', 'crucial', 'attendence', 'needle', 'debugger', 'record', 'storagelecture', 'recursionlecture', 'sortinglecture', 'maintain', 'evaluator', 'happens', 'applicable', 'whereas', 'paradigm', 'imperative', 'transfer', 'reach', 'conote', 'simply', 'voskuhl', 'implemented', 'capable', 'onto', 'checking', 'six', 'combination', 'sitting', 'say', 'sink', 'jointly', 'recursive', 'reasoning', 'inheritance', 'multimethods', 'mutable', 'randomization', 'fun', 'challenge', 'hundred', 'expecting', 'event', 'unfortunately', 'attends', 'suzy', 'nine', 'fit', 'submitting', 'prescribed', 'soon', 'opened', 'considerably', 'partially', 'gripe', 'thoughtful', 'containing', 'bevy', 'relating', 'bswest', 'encounter', 'la', 'output', 'burnett', 'asked', 'hourlyworker', 'game', 'robotics', 'qualifying', 'deduction', 'robot', 'steve', 'comprehensive', 'burn', 'body', 'scalapack', 'lcpc', 'driven', 'ramkumar', 'adve', 'scalable', 'bordawekar', 'fahringer', 'blumofe', 'adding', 'naughton', 'tjung', 'cooperation', 'probably', 'mock', 'cantata', 'login', 'cshrc', 'usr', 'education', 'spatial', 'cvpr', 'msvc', 'toolbox', 'apply', 'simulate', 'appearance', 'contour', 'approved', 'dip', 'renee', 'reed', 'macmosaic', 'frontier', 'manufacturer', 'debate', 'usable', 'portable', 'powerful', 'cm', 'across', 'selecting', 'contrast', 'smile', 'diary', 'intend', 'kermit', 'reaction', 'exact', 'assume', 'le', 'unvalidated', 'larger', 'publication', 'presenations', 'approximate', 'meyer', 'rrm', 'discrete', 'therefore', 'solns', 'limit', 'big', 'specmarks', 'reservation', 'gooty', 'crypt', 'mapped', 'encrypt', 'decrypt', 'weaver', 'zj', 'noland', 'vectra', 'dragon', 'fantasm', 'glance', 'rlm', 'located', 'yschoe', 'cxh', 'dparam', 'gzhang', 'tex', 'refund', 'academic', 'reason', 'withdrawal', 'bonus', 'practice', 'night', 'wel', 'testing', 'procudure', 'electroncally', 'letter', 'typo', 'globals', 'passing', 'practive', 'obsolete', 'subroutine', 'wildcard', 'backup', 'herald', 'freeware', 'archiving', 'unpack', 'simtel', 'visit', 'desautels', 'everyday', 'mistake', 'mreames', 'former', 'vas', 'front', 'staffnameemailphoneoffice', 'nitin', 'acroread', 'markhill', 'mshen', 'reader', 'miscellanea', 'talluri', 'bottleneck', 'margaret', 'specialization', 'charles', 'melody', 'fischer', 'egger', 'specmark', 'rating', 'atom', 'dinero', 'fakult', 'marclang', 'fulbright', 'depth', 'resume', 'germanyringstra', 'maintal', 'fax', 'bielefeld', 'usa', 'wa', 'dog', 'golf', 'mpeg', 'ten', 'lame', 'guttermouth', 'exchange', 'mak', 'basically', 'everybody', 'balayoghan', 'vbb', 'devries', 'peter', 'pdevries', 'scout', 'biology', 'fortunate', 'prof', 'involved', 'yongxiang', 'china', 'jiangsu', 'chinse', 'vectorization', 'gyx', 'chris', 'edmondson', 'cobb', 'annual', 'informatics', 'press', 'obtained', 'faculty', 'designing', 'voelker', 'preparation', 'distr', 'svr', 'welsh', 'goldstein', 'yelick', 'supercomputing', 'berkeley', 'seavey', 'mine', 'dan', 'fasulo', 'dfasulo', 'williams', 'eastlake', 'ave', 'absolutely', 'athletics', 'wendy', 'whether', 'northwest', 'separation', 'methodology', 'fpga', 'rapid', 'emerald', 'chinook', 'co', 'directed', 'gemini', 'franklin', 'officially', 'graduated', 'specialist', 'el', 'paso', 'german', 'sc', 'alumnus', 'ralph', 'emeritus', 'valentine', 'pittsburgh', 'ph', 'israel', 'considered', 'myllymaki', 'sequence', 'sashadri', 'ramakrishnan', 'sigmod', 'haber', 'tiwary', 'full', 'fourth', 'opal', 'persistent', 'spare', 'oopsla', 'workshop', 'measuring', 'worked', 'professional', 'chase', 'handling', 'bosch', 'narasayya', 'family', 'chinese', 'association', 'hefei', 'beijing', 'cgi', 'hsieh', 'postdoc', 'spin', 'mit', 'lie', 'whsieh', 'pgp', 'travel', 'tourist', 'rice', 'classic', 'kay', 'vita', 'bert', 'horn', 'wise', 'genealogy', 'cancer', 'mangasarian', 'wolberg', 'surgery', 'release', 'american', 'diagnosis', 'grew', 'rudy', 'breast', 'began', 'street', 'consolidated', 'fasion', 'computes', 'correctly', 'prognosis', 'approximation', 'predict', 'recurrence', 'predicts', 'plot', 'cytological', 'setiono', 'siam', 'cytology', 'national', 'bennett', 'manuscript', 'oncology', 'prediction', 'twelfth', 'aaai', 'hunt', 'seek', 'capital', 'angeles', 'oncolink', 'biomedical', 'paulb', 'hsu', 'looking', 'vpla', 'massachusetts', 'hp', 'hewlett', 'packard', 'affiliation', 'hobby', 'aquarium', 'burling', 'chelmsford', 'responsibility', 'athletic', 'bethel', 'skating', 'particularly', 'lwerth', 'contemporary', 'present', 'csc', 'chair', 'metric', 'assurance', 'werth', 'tomayko', 'icse', 'profile', 'ortega', 'controller', 'unofficially', 'toy', 'geek', 'taiwanese', 'dynosaur', 'chou', 'csrvl', 'niche', 'mdw', 'thanks', 'mem', 'active', 'nynet', 'potential', 'donald', 'rees', 'homology', 'triangulation', 'invariant', 'jennings', 'latombe', 'briggs', 'microfabricated', 'hringer', 'mihailovich', 'macdonald', 'oiso', 'approach', 'micromechanical', 'queb', 'dynamically', 'morgenstern', 'morgensternresearcher', 'xerox', 'heterogeneous', 'arpa', 'funded', 'metadata', 'chat', 'accessed', 'visitor', 'kingsum', 'advisor', 'quality', 'chow', 'transformation', 'pccts', 'campus', 'fook', 'movie', 'nuclear', 'chemical', 'safeware', 'nancy', 'gsnake', 'utility', 'eh', 'forth', 'woodworking', 'sleep', 'wonder', 'boring', 'relational', 'interpreter', 'geographic', 'shore', 'whatever', 'occurs', 'porting', 'reviving', 'oddball', 'uwvax', 'volunteer', 'care', 'haus', 'octoberfest', 'bolo', 'desktop', 'sci', 'mukherjee', 'shubu', 'fiancee', 'corresponding', 'hill', 'wind', 'gray', 'ic', 'isca', 'savage', 'gradual', 'brian', 'omnifemtokernel', 'adaptation', 'maintaining', 'integrity', 'wcsss', 'modula', 'fifth', 'hotos', 'monterey', 'sixth', 'usage', 'wwos', 'carnegie', 'mach', 'exporting', 'music', 'hiking', 'sailing', 'diving', 'josh', 'joshua', 'chu', 'humor', 'fcc', 'fisher', 'box', 'voice', 'return', 'acquisition', 'hopefully', 'agapito', 'tsuchimoto', 'translator', 'yuichi', 'horus', 'robbert', 'rvr', 'similar', 'novel', 'isi', 'playback', 'demand', 'retain', 'synchrony', 'telecommunication', 'financial', 'trading', 'stock', 'hiper', 'exploring', 'radar', 'demanding', 'stratus', 'illustration', 'integrates', 'asset', 'success', 'bayardo', 'infosleuth', 'romer', 'rocky', 'random', 'house', 'limb', 'california', 'took', 'capacity', 'hypothetical', 'break', 'hogman', 'coded', 'interfaced', 'rivl', 'railroad', 'kwb', 'nervous', 'tenure', 'dennett', 'explained', 'chaotic', 'multicomputers', 'associate', 'pawang', 're', 'fred', 'schneider', 'becoming', 'focused', 'fault', 'executes', 'tacoma', 'troms', 'moving', 'structuring', 'roams', 'chief', 'editor', 'annals', 'monograph', 'verlag', 'responsive', 'dependable', 'hybrid', 'steering', 'defensive', 'warfare', 'agency', 'machinery', 'exploiting', 'lubeck', 'reactive', 'ames', 'distinguished', 'series', 'ultradependable', 'marzullo', 'dehn', 'agent', 'verifying', 'stoller', 'departmental', 'denise', 'doorenbos', 'bobd', 'geeky', 'softbot', 'soar', 'thesis', 'cbr', 'jair', 'perl', 'adam', 'meta', 'savvysearch', 'excite', 'crawler', 'hotbot', 'globe', 'span', 'museum', 'doctorate', 'join', 'teknekron', 'palo', 'wrote', 'swarthmore', 'ran', 'mm', 'gothic', 'sawada', 'teacher', 'boyer', 'psb', 'stored', 'bradley', 'worldwide', 'transition', 'clock', 'timed', 'bibtex', 'cav', 'jamrozik', 'feeley', 'evans', 'ii', 'seventh', 'architectural', 'universite', 'laboratoire', 'schnarr', 'madhukar', 'avenue', 'iit', 'colloquium', 'newest', 'internic', 'difference', 'pose', 'morphing', 'prewarping', 'morph', 'deyu', 'hu', 'born', 'gunther', 'deutsch', 'mathematische', 'datenverarbeitung', 'mcgill', 'indian', 'redundant', 'automated', 'classification', 'tennis', 'dpcnl', 'prefetching', 'quals', 'dionisis', 'panhellenic', 'bezenek', 'uregina', 'pith', 'consisting', 'west', 'alfred', 'worthwhile', 'javaworld', 'ahong', 'lederman', 'relates', 'tunnel', 'prism', 'ordering', 'ongoing', 'compressed', 'tar', 'repository', 'ext', 'wchen', 'rosette', 'extending', 'average', 'career', 'curriculum', 'certificate', 'minority', 'outstanding', 'cnn', 'derrick', 'candidate', 'stabilizing', 'implicit', 'labeling', 'illegitimate', 'said', 'step', 'decision', 'kluwer', 'appeared', 'submitted', 'marco', 'postal', 'dglaser', 'brd', 'founded', 'microelectromechanical', 'geometric', 'karl', 'microactuators', 'amy', 'surveillance', 'micro', 'france', 'bound', 'xavier', 'manipulator', 'canny', 'reif', 'entitled', 'robotic', 'iros', 'noel', 'patrick', 'avalable', 'portrait', 'merian', 'cooper', 'wuhan', 'haosun', 'government', 'browse', 'ncstrl', 'tewari', 'internship', 'watson', 'badros', 'gjb', 'senior', 'bermuda', 'apartment', 'zshell', 'chronicle', 'competition', 'sum', 'drew', 'definitely', 'parliamentary', 'lycos', 'duke', 'historic', 'inter', 'unification', 'supported', 'divakar', 'adviser', 'berman', 'wife', 'millett', 'participatory', 'cat', 'never', 'yong', 'seshadri', 'seq', 'aswin', 'skyacre', 'dutch', 'homegrown', 'bench', 'foo', 'hit', 'header', 'ampicc', 'xlc', 'amr', 'setenv', 'bash', 'kurt', 'partridge', 'poster', 'nasa', 'ddion', 'osf', 'afraid', 'sit', 'claim', 'distraction', 'majority', 'countless', 'racquetball', 'transportation', 'shopping', 'dion', 'arora', 'quite', 'operate', 'linking', 'germany', 'federal', 'genomics', 'york', 'allan', 'buckley', 'traversal', 'charge', 'affiliated', 'optimization', 'closely', 'coleman', 'ppcx', 'square', 'pssls', 'psspd', 'definite', 'multifrontal', 'san', 'factorization', 'bailey', 'bjorstad', 'gilbert', 'mascagni', 'schreiber', 'torczon', 'orthogonal', 'sinovec', 'keyes', 'leuze', 'petzold', 'pothen', 'dongarra', 'kennedy', 'messina', 'sorensen', 'univeristy', 'csun', 'grzegorz', 'czajkowski', 'grzes', 'eicken', 'tin', 'exploit', 'db', 'ye', 'concentrating', 'enjoy', 'hometown', 'rsc', 'tandem', 'corporation', 'operator', 'ackowledgement', 'yihong', 'zhao', 'terse', 'craig', 'waterloo', 'modify', 'graduating', 'cskaplan', 'fellowship', 'candidacy', 'synchronous', 'psp', 'kornerup', 'ascii', 'mostly', 'spike', 'managing', 'action', 'reasonably', 'originated', 'mike', 'nuprl', 'roy', 'guarantee', 'primitive', 'head', 'robustness', 'glade', 'omid', 'madani', 'suite', 'hello', 'country', 'factor', 'translated', 'anticipation', 'representative', 'householder', 'america', 'ellerbroek', 'pitsianis', 'plemmons', 'nba', 'thriving', 'revolution', 'sector', 'cornellopoly', 'optimal', 'encoding', 'shopper', 'gaming', 'nando', 'jmm', 'hungary', 'milwaukee', 'combining', 'syllable', 'probabilistic', 'vitae', 'comtemporary', 'foreign', 'traveling', 'anhai', 'adm', 'pkn', 'forman', 'try', 'optimizing', 'hyperlink', 'handy', 'weather', 'lumelsky', 'ec', 'depts', 'moscow', 'incomplete', 'continuous', 'centered', 'developong', 'teleoperated', 'blend', 'massive', 'sensing', 'skin', 'mace', 'shabel', 'cheer', 'jshabel', 'rep', 'secretary', 'slicing', 'incremental', 'attribute', 'aimed', 'explored', 'slice', 'respect', 'decomposition', 'contiguous', 'merging', 'implementing', 'slicer', 'recently', 'interprocedural', 'solved', 'reachability', 'polynomial', 'nearby', 'fse', 'differencing', 'popl', 'license', 'magic', 'pepm', 'pfeiffer', 'sigplan', 'acta', 'compcon', 'generator', 'generating', 'ide', 'ramalingam', 'alg', 'binkley', 'tosem', 'ipl', 'yang', 'scp', 'toplas', 'prins', 'teitelbaum', 'synthesizer', 'dependence', 'fourteenth', 'ald', 'bohner', 'reprinted', 'abramsky', 'maibaum', 'barstow', 'sandewall', 'wherefore', 'sigsoft', 'dagstuhl', 'danvy', 'glueck', 'thiemann', 'sagiv', 'wilhelm', 'destructive', 'da', 'hentenryck', 'semantic', 'binding', 'propagation', 'fase', 'aarhus', 'moss', 'tapsoft', 'fritzson', 'flowgraph', 'portland', 'grammar', 'parallelism', 'spaa', 'copenhagen', 'barcelona', 'diaz', 'integrating', 'variant', 'adequacy', 'representing', 'marceau', 'alpern', 'albuquerque', 'williamsburg', 'patent', 'leeuwen', 'mehlhorn', 'charleston', 'klint', 'reconstituting', 'doc', 'etch', 'producing', 'hold', 'spanned', 'scholar', 'survived', 'escaped', 'infamous', 'anna', 'jeffrey', 'recoverability', 'vivek', 'thekkath', 'abhinav', 'gupta', 'paradyn', 'florida', 'effort', 'super', 'elsewhere', 'msc', 'isl', 'aim', 'unitary', 'geophysicist', 'quantum', 'comercial', 'relativity', 'pecina', 'clen', 'ccp', 'ahrens', 'los', 'load', 'improve', 'motivated', 'notebook', 'aid', 'directly', 'rendering', 'skeshav', 'christopher', 'switch', 'operational', 'fore', 'zeitnet', 'confusing', 'goethe', 'kanetkar', 'declined', 'alleigance', 'microsoft', 'anyway', 'bhao', 'inside', 'eat', 'solar', 'shoemaker', 'spider', 'edge', 'cern', 'fanatic', 'dejanews', 'jadair', 'supervised', 'funding', 'att', 'hardvare', 'verifcation', 'shma', 'hopcroft', 'dean', 'oversee', 'comprise', 'involvement', 'continues', 'robust', 'capture', 'facilitate', 'researched', 'council', 'academy', 'sloan', 'commonsense', 'nonmonotonic', 'mccain', 'downloaded', 'expanding', 'russian', 'pure', 'marine', 'howto', 'sowmya', 'chang', 'chichao', 'towards', 'compositional', 'risc', 'soccer', 'lubrasa', 'luso', 'brazilian', 'gathering', 'cost', 'aips', 'uai', 'leverage', 'european', 'experimentation', 'serious', 'sumac', 'sampler', 'sound', 'michigan', 'target', 'determines', 'sustained', 'emphasizes', 'expects', 'cull', 'airplane', 'madhu', 'aligned', 'clustered', 'nsf', 'proposed', 'frank', 'kim', 'alvin', 'lebeck', 'kessler', 'tocs', 'wood', 'tpds', 'toc', 'lewis', 'steven', 'sarita', 'barton', 'netzer', 'cray', 'vsr', 'represent', 'define', 'lattice', 'scalar', 'latitude', 'constructor', 'temperature', 'condition', 'voxels', 'along', 'ad', 'defines', 'markos', 'gi', 'lived', 'alain', 'mwbarnes', 'utah', 'tanglebriar', 'yet', 'guo', 'kguo', 'weight', 'niagara', 'consortium', 'xmosaic', 'oldindex', 'ithaca', 'fashion', 'cjlutz', 'crew', 'ufl', 'wired', 'gouda', 'citation', 'profit', 'owned', 'redistribute', 'org', 'keeper', 'rather', 'becomes', 'todo', 'sporadically', 'caltech', 'gave', 'somewhere', 'sfuai', 'contextual', 'translate', 'easier', 'jon', 'phin', 'undergrad', 'ba', 'adjacent', 'play', 'radius', 'went', 'tau', 'finished', 'tracker', 'finishing', 'stream', 'buddy', 'surfer', 'oregon', 'keeping', 'bullie', 'develops', 'rickel', 'boundary', 'branting', 'bareiss', 'holte', 'looked', 'pingali', 'bernoulli', 'shinook', 'timing', 'enables', 'informed', 'synthesize', 'dac', 'automation', 'interfacing', 'jhaveri', 'ashish', 'manuvir', 'league', 'gnan', 'natarajan', 'british', 'pei', 'walbourn', 'yuying', 'constrained', 'exist', 'minimization', 'enhancement', 'lp', 'dexter', 'yinng', 'macine', 'beida', 'interpreted', 'popular', 'examines', 'henry', 'dlee', 'geoff', 'alec', 'wolman', 'wayne', 'waynew', 'benchmark', 'collect', 'internal', 'moten', 'editorial', 'statistical', 'director', 'renka', 'king', 'meyering', 'cline', 'node', 'presence', 'moler', 'stewart', 'yearbook', 'showed', 'weasel', 'saw', 'tv', 'ugh', 'sat', 'stew', 'chandrasekar', 'schandra', 'rob', 'minimalist', 'taship', 'saeed', 'mirza', 'lucknow', 'listning', 'friend', 'exodus', 'succeded', 'contributed', 'zwilling', 'ron', 'amos', 'affine', 'anonymous', 'bombay', 'initiation', 'creative', 'award', 'icdcs', 'sponsor', 'sponsored', 'electric', 'electrospace', 'useless', 'gajit', 'krafft', 'legal', 'illinois', 'pro', 'nautiyal', 'god', 'silk', 'yao', 'wei', 'zhou', 'tracing', 'thakur', 'ecrocke', 'chung', 'saic', 'ychung', 'ysc', 'yooschung', 'yumpee', 'blah', 'assistantship', 'featured', 'kanpur', 'iitk', 'bookmark', 'plakal', 'acknowledgement', 'corner', 'allen', 'emerson', 'direct', 'infinite', 'mok', 'sistla', 'srinivasan', 'sadler', 'mu', 'jutla', 'focs', 'hudson', 'configure', 'innovation', 'generates', 'fielded', 'etzioni', 'accessible', 'motivation', 'softbots', 'kwok', 'goan', 'ingram', 'kleinber', 'almaden', 'kleinberg', 'rubinfeld', 'tardos', 'aggarwal', 'goemans', 'latency', 'relaxation', 'localization', 'yaniv', 'awerbuch', 'fernandez', 'borodin', 'raghavan', 'quiesce', 'connection', 'consensus', 'berger', 'huttenlocher', 'kedem', 'stanford', 'soda', 'stoc', 'sdsc', 'oops', 'efficiently', 'somerset', 'kakkad', 'svkakkad', 'multiresolution', 'dane', 'unrelated', 'pinball', 'olap', 'surpass', 'cube', 'benchmarking', 'parallelizing', 'sarawagi', 'bucky', 'curious', 'eng', 'trivandrum', 'india', 'carpet', 'seena', 'hinshaw', 'galileo', 'dbc', 'firby', 'christianson', 'navigation', 'ima', 'supercollider', 'interchangeable', 'avionics', 'guillermo', 'perezph', 'jeff', 'thomasph', 'lance', 'build', 'typical', 'module', 'refinement', 'relationship', 'lightweight', 'simulator', 'batory', 'periodically', 'tsinghua', 'live', 'sigir', 'luxue', 'xuelu', 'sinica', 'tagging', 'minsheng', 'apt', 'chuang', 'hassoun', 'soha', 'chaos', 'wwt', 'cow', 'collaborating', 'adapt', 'origin', 'karr', 'layered', 'concentrated', 'stem', 'revision', 'response', 'apparently', 'dedicated', 'navigate', 'maa', 'shorter', 'walk', 'acknowledgment', 'helped', 'specifically', 'performed', 'fink', 'micklich', 'imaging', 'yule', 'meth', 'un', 'hailperin', 'flexibility', 'gustavus', 'fostering', 'interchange', 'promoting', 'nfl', 'player', 'upa', 'stollnitz', 'duotones', 'siggraph', 'diversion', 'jpower', 'watercolor', 'poetry', 'occam', 'planner', 'nietzsche', 'tibor', 'nosi', 'zeno', 'superhighway', 'clio', 'great', 'scotland', 'eight', 'fulfill', 'q', 'tlau', 'repulsed', 'pondering', 'thinking', 'interrupted', 'hoare', 'recover', 'peet', 'retreat', 'cobbled', 'missing', 'submit', 'marion', 'brown', 'boor', 'iso', 'death', 'approx', 'driver', 'ilas', 'changing', 'bruce', 'tutoring', 'biological', 'kned', 'lexed', 'mallory', 'souther', 'theorist', 'prado', 'searcher', 'correl', 'eilerts', 'ray', 'nwu', 'uwyo', 'rt', 'ncsu', 'wu', 'yuwu', 'corba', 'omg', 'silvano', 'vrml', 'business', 'sap', 'bauman', 'dailey', 'mechanic', 'astronautics', 'sale', 'kamijo', 'kkamijoh', 'utnetcat', 'browsable', 'utaccess', 'replication', 'film', 'rtan', 'mill', 'majored', 'distracted', 'numerous', 'rewrite', 'mapquest', 'marshfield', 'carruth', 'unity', 'finite', 'partial', 'mukhopadhyay', 'czar', 'sugata', 'estate', 'owego', 'lawande', 'resourses', 'fingered', 'ssl', 'shilpal', 'thru', 'srivastava', 'sxsrivas', 'guidebook', 'mhuang', 'sheldon', 'court', 'bachelor', 'rfc', 'lxwu', 'univsersity', 'banyan', 'native', 'mart', 'stephen', 'wieren', 'behavior', 'generational', 'checkpointing', 'tolerance', 'gc', 'metaobjects', 'sheetal', 'cao', 'controlled', 'tickertaip', 'raid', 'wilkes', 'uniprocessor', 'demonstrated', 'significantly', 'hayden', 'taste', 'ensemble', 'hockey', 'rule', 'rhwang', 'ericro', 'multiscalar', 'suzuki', 'ie', 'probability', 'simulated', 'ele', 'independent', 'investigating', 'subjectivity', 'parameterized', 'jakarta', 'xu', 'combined', 'blizzard', 'fudan', 'smu', 'aquired', 'apologize', 'neat', 'forgotten', 'notre', 'dame', 'yahooooooooooooo', 'shack', 'contribute', 'classifies', 'consists', 'nondeterministic', 'recruiting', 'stearns', 'houston', 'universal', 'observation', 'nature', 'liugt', 'vijay', 'sohi', 'register', 'anatomy', 'browne', 'sobek', 'lee', 'newton', 'thirteenth', 'draw', 'motif', 'coolest', 'sammy', 'congress', 'experiment', 'swimming', 'yellow', 'clc', 'dell', 'hotlist', 'travelocity', 'opinion', 'susan', 'retesting', 'necessarily', 'paris', 'melbourne', 'cambridge', 'economics', 'pivotal', 'considering', 'condor', 'cpnet', 'complementarity', 'viewpoint', 'unknown', 'recognizing', 'coordinating', 'viewed', 'shaped', 'defined', 'discriminating', 'seitz', 'shah', 'track', 'kutulakos', 'seales', 'articulated', 'hibbard', 'martinez', 'gareth', 'macc', 'visualizing', 'kyros', 'rochester', 'controlling', 'allmen', 'uky', 'wheaton', 'asp', 'rpi', 'connectionist', 'kjell', 'ctstateu', 'measure', 'imprisonment', 'captor', 'tracyk', 'tomkins', 'hugo', 'implemenation', 'squared', 'sinha', 'branching', 'taxiao', 'bldg', 'twang', 'tt', 'transformational', 'travis', 'implication', 'deductive', 'contained', 'incorporates', 'organizational', 'oravec', 'throughput', 'htc', 'increase', 'wrapper', 'diverse', 'jhlin', 'permanent', 'shing', 'taiwan', 'rcarl', 'depository', 'grave', 'georgia', 'queueing', 'represented', 'brumfield', 'shen', 'richter', 'receptionist', 'trajectory', 'curt', 'paradise', 'positioning', 'gps', 'sql', 'hoard', 'corporate', 'savvy', 'locator', 'theme', 'systematic', 'auxiliary', 'deriving', 'efficiency', 'yanhong', 'raman', 'ohio', 'saluja', 'livny', 'integral', 'stopping', 'foa', 'seeking', 'ling', 'advice', 'epigram', 'perlis', 'polya', 'queen', 'guggenheim', 'wonderfulness', 'federation', 'notion', 'langauges', 'speaking', 'granting', 'pong', 'later', 'yielded', 'locate', 'ever', 'extract', 'extracting', 'digitizing', 'salisbur', 'minimize', 'uniprogrammed', 'scheduler', 'aflorenc', 'stodghill', 'stodghil', 'rhodes', 'acri', 'ultimate', 'taing', 'gallery', 'fund', 'listen', 'booth', 'prasad', 'rpc', 'timex', 'plaxton', 'vlr', 'randomness', 'uvm', 'tsan', 'tw', 'phil', 'philmac', 'idbsu', 'ramgopal', 'ckpoon', 'rajmohan', 'rraj', 'santanu', 'ssinha', 'torsten', 'suel', 'yuke', 'typically', 'sending', 'expressing', 'remove', 'warm', 'midsouth', 'surrounding', 'north', 'louisiana', 'hazen', 'lucky', 'philosophy', 'pragmatist', 'knowing', 'doctoral', 'concurrency', 'madras', 'kedar', 'jiawang', 'binghamton', 'hongkong', 'multilingual', 'digest', 'hina', 'cssa', 'chinglan', 'est', 'seneca', 'utc', 'private', 'wusage', 'martym', 'metip', 'educational', 'united', 'lose', 'motivate', 'stay', 'manipulate', 'catalyze', 'xform', 'pursuit', 'bricker', 'guided', 'wong', 'giant', 'src', 'authorization', 'ara', 'low', 'legion', 'sirac', 'exclusion', 'opening', 'jobweb', 'isso', 'rank', 'succeed', 'moshovos', 'kestrel', 'uncompressed', 'courant', 'transfered', 'hellenic', 'fraud', 'kristin', 'tufte', 'hdf', 'eos', 'mackay', 'fulltime', 'hourlies', 'jerel', 'carried', 'agenda', 'variational', 'gradient', 'differentiable', 'diagnostic', 'hospital', 'festschrift', 'riedmueller', 'baltimore', 'separable', 'bilinear', 'cowan', 'tesauro', 'alspector', 'serial', 'backpropagation', 'minimnization', 'chronological', 'jun', 'dns', 'jfang', 'audio', 'formula', 'referenceable', 'referring', 'aster', 'hear', 'faa', 'uniprocessors', 'babak', 'rahmat', 'informix', 'douglas', 'tuning', 'handler', 'tag', 'typhoon', 'slower', 'instrumented', 'colleague', 'applicability', 'brewster', 'patel', 'carey', 'chiang', 'mansharamani', 'gmap', 'expanded', 'shoring', 'seth', 'white', 'capitl', 'sukhpal', 'vega', 'router', 'triptych', 'belated', 'corollary', 'archie', 'salvatore', 'stolfo', 'sherman', 'joebob', 'impressive', 'pam', 'friedrich', 'nanofabrication', 'investigated', 'magazine', 'sashikanth', 'csashi', 'vms', 'breach', 'vijaykumar', 'hani', 'dickey', 'maryland', 'sometime', 'stamp', 'cheese', 'hope', 'steele', 'gzipped', 'mary', 'forgot', 'steelemsteele', 'eduuniversity', 'madisoncomputer', 'schatz', 'sandia', 'install', 'meiko', 'layer', 'describes', 'trip', 'hpam', 'equipped', 'coordination', 'schauser', 'symp', 'actually', 'seoul', 'cpe', 'nueces', 'sunghee', 'xichun', 'phong', 'latest', 'predecessor', 'satellite', 'typed', 'heterogeneity', 'commercial', 'eosdis', 'transmit', 'neutral', 'embodied', 'sdl', 'persistence', 'odl', 'standpoint', 'reachable', 'termed', 'root', 'unnamed', 'realization', 'pool', 'cross', 'compatible', 'attempt', 'legacy', 'managed', 'listproc', 'mailbox', 'existence', 'membership', 'subscribing', 'nhall', 'footnote', 'jiebing', 'tertiary', 'nag', 'ramasamy', 'lueder', 'ellman', 'kupsch', 'goddard', 'mass', 'kabra', 'luo', 'santiago', 'zabih', 'came', 'skl', 'sli', 'cit', 'decent', 'promise', 'else', 'ecamahor', 'prema', 'port', 'smp', 'task', 'balancing', 'chrisochoides', 'pcrc', 'nikosc', 'discovering', 'scanned', 'identifiable', 'differs', 'nabil', 'dartmouth', 'nell', 'dale', 'reached', 'authored', 'nontechnical', 'ndale', 'assistance', 'reserved', 'harvard', 'standing', 'silly', 'waste', 'ian', 'stuart', 'sport', 'dastuart', 'om', 'damani', 'dekho', 'busy', 'meant', 'sytems', 'honored', 'tradition', 'guadulpe', 'engg', 'ca', 'javamedia', 'ride', 'onyx', 'routine', 'parallelomania', 'pal', 'ubiquitous', 'mobisaic', 'wit', 'handheld', 'marc', 'fiuczynski', 'ernst', 'previously', 'eec', 'serialization', 'away', 'mernst', 'johannes', 'eagle', 'baruah', 'gehrke', 'rover', 'wylee', 'avid', 'badminton', 'love', 'kollas', 'ground', 'foe', 'wan', 'indiana', 'hyplan', 'barua', 'ok', 'geometry', 'chavey', 'misc', 'win', 'hyper', 'todd', 'awesome', 'optical', 'png', 'pov', 'raytracer', 'superdlx', 'japanese', 'unversity', 'asiasoft', 'retreval', 'nist', 'sw', 'jedi', 'latin', 'stemmer', 'dcu', 'ir', 'offensive', 'threw', 'schwab', 'psnup', 'malik', 'imalik', 'ctkwok', 'leisure', 'kota', 'kazushi', 'mitusbishi', 'advertize', 'reinhardt', 'stever', 'strikwerda', 'strik', 'chicago', 'pulli', 'closest', 'werner', 'tribors', 'obtaining', 'wavelet', 'eacutesum', 'kapu', 'ne', 'takavainiontie', 'oulu', 'considerable', 'avoidance', 'formulate', 'original', 'marcelo', 'gon', 'mjrg', 'sheboygan', 'minsky', 'yminsky', 'flapdragon', 'seen', 'twenty', 'loving', 'tried', 'bigbook', 'kga', 'sok', 'aj', 'xnoertfeylbvhpn', 'rojswmc', 'igsq', 'mef', 'sole', 'sell', 'extensibility', 'fifteenth', 'pretty', 'safe', 'comparing', 'region', 'elimination', 'vineets', 'ahuja', 'coursework', 'anindya', 'basu', 'goofing', 'worldcup', 'malt', 'par', 'klaus', 'vogels', 'sosp', 'formalism', 'tumlin', 'everywhere', 'battleball', 'guessed', 'pahardin', 'unt', 'curly', 'decided', 'thought', 'ended', 'sea', 'unusual', 'prose', 'arl', 'empirical', 'dacc', 'honor', 'zealand', 'examining', 'rz', 'aerospace', 'arise', 'constraint', 'durham', 'technion', 'weyl', 'flat', 'pardo', 'quick', 'food', 'privacy', 'logging', 'qi', 'southeast', 'nanjing', 'jq', 'ranged', 'poker', 'orca', 'nwlis', 'served', 'division', 'participates', 'chairing', 'dozen', 'derive', 'rigorous', 'manner', 'josyula', 'wherever', 'chandy', 'powerlists', 'circuit', 'powerlist', 'offspring', 'composition', 'restricting', 'genrates', 'ingolf', 'skumar', 'bari', 'italy', 'shailesh', 'borde', 'singh', 'sharma', 'sitn', 'microwave', 'asynchronously', 'preformance', 'rosen', 'flavour', 'nodisplay', 'filename', 'widget', 'scripting', 'replay', 'fractal', 'creates', 'hole', 'lloyd', 'analogy', 'unicron', 'twelve', 'intramural', 'verbosity', 'tel', 'exeter', 'england', 'kev', 'challenged', 'kmai', 'millipede', 'schuster', 'availability', 'coprocessor', 'tina', 'enormous', 'physical', 'simlab', 'reduce', 'synthesizing', 'chain', 'topological', 'collaborative', 'manufacturing', 'chew', 'republican', 'rock', 'christian', 'graham', 'landrum', 'ziffnet', 'industry', 'francois', 'black', 'mention', 'kincaid', 'lamar', 'cheney', 'cole', 'hayes', 'imacs', 'young', 'constable', 'engaged', 'metalevel', 'fomal', 'leeser', 'bedroc', 'discussing', 'lics', 'jumelage', 'referee', 'tendency', 'verjus', 'constructive', 'qmg', 'mesh', 'downloadable', 'vavasis', 'michalowski', 'bam', 'glorious', 'driest', 'guy', 'door', 'vishy', 'poosala', 'reseach', 'ioannidis', 'asha', 'nbspprofessor', 'nbspuniversity', 'analyzed', 'execute', 'harish', 'donn', 'milton', 'rowland', 'monitoring', 'rogers', 'rrogers', 'laboratry', 'systolic', 'obtain', 'camp', 'splash', 'corn', 'ailamaki', 'anastassia', 'nah', 'natassa', 'unadorned', 'hypersensitive', 'brand', 'caml', 'gif', 'incorporating', 'share', 'delay', 'poor', 'tlb', 'ohlrich', 'mips', 'arvind', 'universe', 'homogeneous', 'continued', 'garlic', 'kiernan', 'arya', 'fagin', 'petkovic', 'schwarz', 'roth', 'wimmers', 'lausanne', 'haas', 'cody', 'kant', 'smrc', 'reinwald', 'mcauliffe', 'tan', 'nashville', 'locking', 'bober', 'dayal', 'valduriez', 'zamir', 'israeli', 'metacrawler', 'rafting', 'sabel', 'failure', 'laura', 'published', 'grant', 'locates', 'autonomous', 'advised', 'bernard', 'retrieving', 'terrance', 'uma', 'statlib', 'folk', 'demonstrating', 'slightly', 'cv', 'introducing', 'symbol', 'grounding', 'spanish', 'dianelaw', 'gann', 'illigal', 'canfield', 'cristian', 'guangtian', 'bliss', 'haiku', 'databse', 'mysore', 'aruna', 'naval', 'publisher', 'heitmeyer', 'labaw', 'clements', 'montreal', 'aptl', 'tsou', 'karavanic', 'karavan', 'trio', 'legislative', 'hopper', 'pioneer', 'siff', 'zheng', 'lzheng', 'shameless', 'temporarily', 'officemate', 'cut', 'intel', 'arrange', 'static', 'advertisement', 'aspiring', 'balding', 'adoption', 'connected', 'wandering', 'wilkinson', 'coding', 'gould', 'ea', 'accomplish', 'enhanced', 'became', 'rcs', 'pilot', 'urgent', 'afs', 'viswanathan', 'gviswana', 'wenger', 'kent', 'agree', 'jacques', 'mlrg', 'external', 'procs', 'finton', 'nerd', 'ex', 'left', 'trusty', 'gainful', 'treat', 'interval', 'focussed', 'specify', 'omniweb', 'christ', 'nebula', 'mission', 'decade', 'mcplib', 'mex', 'colorado', 'smooth', 'nonsmooth', 'relinearized', 'solver', 'ncp', 'mcp', 'economic', 'mpsge', 'equilibrium', 'formulated', 'gam', 'nems', 'grinzayd', 'necx', 'express', 'minos', 'reasearch', 'typesafe', 'crashing', 'attempting', 'connect', 'extend', 'longer', 'invocation', 'executing', 'distinction', 'interposition', 'mascot', 'fulgham', 'multicomputer', 'mel', 'laurea', 'lorenzo', 'maria', 'hewett', 'kansa', 'collegiate', 'bowl', 'marathon', 'central', 'stairmaster', 'midway', 'mellon', 'przemyslaw', 'auslander', 'philipose', 'emin', 'pardyak', 'detection', 'evaluate', 'draves', 'rain', 'relative', 'brendan', 'es', 'mumey', 'ismb', 'quickly', 'klawe', 'mcauliff', 'tsatalos', 'equation', 'elliptic', 'positive', 'sparseness', 'attack', 'subset', 'ranked', 'card', 'atlantic', 'xguo', 'axiomatic', 'besides', 'axiom', 'exponent', 'hart', 'quasigroups', 'monthly', 'multithreading', 'facing', 'alleviate', 'superscalars', 'conducting', 'jack', 'lo', 'emer', 'tullsen', 'stamm', 'simultaneous', 'affair', 'jlo', 'periodic', 'periodicity', 'filming', 'poscript', 'moment', 'turntable', 'invariance', 'activites', 'wanted', 'edhong', 'darren', 'cronquist', 'darrenc', 'employment', 'abraham', 'regional', 'tinker', 'hi', 'telerobotics', 'hert', 'chandra', 'altavista', 'italian', 'culture', 'adjunct', 'karp', 'senate', 'nc', 'upfal', 'salesman', 'plane', 'edmonds', 'minimum', 'bourassa', 'virgil', 'arizona', 'aiming', 'meander', 'sriram', 'delhi', 'iitd', 'ashisht', 'parameter', 'inadequate', 'investigates', 'tod', 'tsangaris', 'tkde', 'bridge', 'shekita', 'bao', 'zurich', 'fp', 'dexa', 'athens', 'minneapolis', 'chi', 'edbt', 'dublin', 'wiener', 'menghee', 'island', 'strait', 'singapore', 'nicholas', 'howe', 'nihowe', 'wafer', 'jenevein', 'reliability', 'locally', 'damage', 'investment', 'coral', 'rodin', 'successor', 'piq', 'queried', 'sudarsha', 'divesh', 'dar', 'catalogue', 'tmycin', 'vip', 'electical', 'urbana', 'electronics', 'birla', 'bulk', 'crc', 'grain', 'shim', 'korean', 'anybody', 'melco', 'hong', 'jiyang', 'tang', 'biochemistry', 'river', 'geeta', 'seims', 'jackhammerduke', 'width', 'orwell', 'tracked', 'amidon', 'colloquim', 'removal', 'audition', 'tcl', 'earth', 'kong', 'carlos', 'anime', 'cjas', 'totoro', 'linhsian', 'hyanbin', 'humble', 'prithee', 'thyselves', 'deidre', 'expression', 'emotion', 'simnet', 'clue', 'primarly', 'junior', 'workin', 'writeup', 'gutierrez', 'omi', 'wwh', 'oguer', 'leekk', 'addr', 'ipic', 'enterprise', 'iti', 'dri', 'scinces', 'peeking', 'valuable', 'clike', 'zhuqing', 'contacting', 'admission', 'jenefer', 'risk', 'combat', 'consequence', 'adopted', 'saved', 'die', 'wrong', 'analog', 'italicized', 'append', 'bogo', 'postcard', 'supposed', 'hidden', 'gather', 'exhaustive', 'recreation', 'jakobovits', 'rex', 'structural', 'dad', 'lately', 'polymorphic', 'morrisett', 'cheng', 'stone', 'harper', 'tarditi', 'extended', 'gregory', 'jersey', 'tolmach', 'gsri', 'bone', 'ng', 'den', 'markng', 'allex', 'biotechnology', 'trainee', 'molecular', 'ivanisevic', 'disclaimer', 'iigor', 'ergun', 'painting', 'harker', 'kharker', 'amateur', 'politics', 'engineeringuniversity', 'jpg', 'iowa', 'testability', 'fabrication', 'performing', 'tested', 'terminal', 'img', 'mecaliff', 'tara', 'estlin', 'ulf', 'cindi', 'cthomp', 'jz', 'acad', 'drake', 'accel', 'predicate', 'dolphin', 'aritficial', 'ecp', 'mlj', 'foil', 'quinlan', 'prodigy', 'oxford', 'sd', 'astronomy', 'cra', 'snowbird', 'underrepresented', 'mentoring', 'therber', 'andyt', 'zoo', 'fm', 'epicurious', 'cartalk', 'gunnel', 'plapacker', 'tongji', 'shanghai', 'lake', 'cdj', 'gbd', 'presently', 'dealing', 'keshav', 'conquering', 'matched', 'here', 'revise', 'buhler', 'institution', 'jbuhler', 'tako', 'pang', 'anthony', 'ust', 'hk', 'chen', 'weichen', 'academically', 'collaborator', 'gopher', 'lam', 'kata', 'nathan', 'aboulnaga', 'dep', 'lurker', 'mom', 'brother', 'peek', 'washinton', 'uwtv', 'oh', 'ckwong', 'hyde', 'o', 'netbsd', 'freebsd', 'openbsd', 'shaft', 'uri', 'julia', 'juliak', 'spending', 'comfort', 'season', 'aerobics', 'sungeun', 'precision', 'duffie', 'actuator', 'mold', 'hierarchical', 'increasing', 'fully', 'agriculture', 'sensor', 'telerobotic', 'sensory', 'customizable', 'navin', 'copying', 'adhere', 'fpgas', 'lexical', 'ada', 'linguistics', 'counseling', 'template', 'multimed', 'ccop', 'hermjakob', 'pa', 'moltkestr', 'nde', 'schoinas', 'iraklio', 'cardie', 'entry', 'westys', 'underly', 'trained', 'extraction', 'cstr', 'kenmore', 'generally', 'riloff', 'scheler', 'eleventh', 'tenth', 'heuristic', 'pronoun', 'lehnert', 'ninth', 'doctorat', 'ucla', 'chairman', 'accent', 'birch', 'jussi', 'applying', 'ford', 'tape', 'trishul', 'fnl', 'adapter', 'whitepapers', 'cyberjournal', 'scsi', 'clancy', 'qualitative', 'newspage', 'emmawu', 'vurgun', 'english', 'winkenbach', 'georgew', 'xie', 'zuckerman', 'plexton', 'mini', 'arm', 'opengl', 'counter', 'ganti', 'vganti', 'till', 'btech', 'genesis', 'alexey', 'vaysburd', 'transis', 'concert', 'musical', 'ashwin', 'iitb', 'sashwin', 'joining', 'idaho', 'unnecessary', 'une', 'mentos', 'wasting', 'cron', 'trove', 'cruising', 'staring', 'labor', 'sister', 'dougz', 'edited', 'jignesh', 'bhu', 'karthik', 'hacking', 'pthread', 'dayton', 'sequin', 'sequenced', 'recorded', 'zoomed', 'collapsed', 'devised', 'client', 'versa', 'complementary', 'hauck', 'consuming', 'esca', 'colville', 'sec', 'naim', 'professorship', 'pod', 'datalog', 'lieuwen', 'rastogi', 'ozden', 'biliris', 'modugno', 'algorthims', 'skiing', 'glenn', 'invaluable', 'squash', 'mead', 'amazing', 'sfkaplan', 'grin', 'ultra', 'lookin', 'sonia', 'reese', 'annex', 'jdreese', 'fail', 'placed', 'advantage', 'price', 'stage', 'rsml', 'usefulness', 'deviation', 'mat', 'heimdahl', 'dolins', 'hildreth', 'statecharts', 'como', 'taed', 'yeung', 'telnet', 'plug', 'sicomp', 'employ', 'chuh', 'santiego', 'acquistion', 'eva', 'orie', 'broadly', 'shmoys', 'plotkin', 'klein', 'stein', 'leighton', 'hoppe', 'evacuation', 'transshipment', 'rabani', 'fleischer', 'goldberg', 'korte', 'tokyo', 'lovasz', 'combinatorics', 'libby', 'essay', 'chilimbi', 'puchol', 'mawl', 'tempest', 'esterel', 'cpg', 'phun', 'parallelization', 'compiled', 'ajohn', 'bernheim', 'ajb', 'woc', 'blast', 'mentorship', 'female', 'calcari', 'scal', 'timely', 'devoted', 'backbone', 'elected', 'relocate', 'requested', 'expand', 'discovery', 'ratan', 'bellcore', 'murphy', 'cowboy', 'keen', 'obligatory', 'watrous', 'canadian', 'assorted', 'hypatia', 'parasol', 'playstation', 'greenberg', 'aliasing', 'conducted', 'founding', 'moy', 'minor', 'brief', 'gigabit', 'darpa', 'rate', 'congestion', 'olsen', 'faber', 'connectivity', 'gov', 'arising', 'depends', 'hough', 'dimension', 'complicated', 'div', 'cleaner', 'guangshun', 'hickey', 'supervision', 'identification', 'fineart', 'backcountry', 'publicly', 'medianet', 'jackson', 'linkage', 'boute', 'interational', 'ifip', 'neglect', 'aime', 'mclaughlin', 'stenglein', 'jeremy', 'stenglei', 'simpson', 'appearing', 'robotlab', 'dull', 'chaput', 'cliff', 'odesta', 'traning', 'onion', 'cyberdog', 'icchen', 'nctu', 'metu', 'xqin', 'qin', 'hpca', 'ustc', 'syu', 'rad', 'champaign', 'eliassi', 'ranting', 'rutgers', 'nhl', 'seinfeld', 'yonglu', 'joseluis', 'pyramania', 'battle', 'kreitz', 'hendrix', 'evolved', 'moore', 'kuo', 'kleyn', 'gallagher', 'secondary', 'sigcse', 'necc', 'cooperating', 'devr', 'lara', 'foremost', 'thirty', 'normalization', 'trec', 'consistently', 'salton', 'dual', 'mandar', 'slowly', 'ori', 'shirt', 'riderlink', 'option', 'biographical', 'kodukula', 'vliw', 'aka', 'trapped', 'z', 'son', 'greatest', 'minion', 'storing', 'insure', 'attn', 'bng', 'exhibiting', 'echris', 'tentatively', 'alt', 'htbin', 'stukel', 'bio', 'technically', 'philosophic', 'survival', 'philosopher', 'leary', 'trendy', 'paulmcq', 'neuro', 'moriarty', 'nut', 'crary', 'subtyping', 'kml', 'formulating', 'tractable', 'markj', 'collector', 'refereed', 'fuzzy', 'webster', 'cachet', 'song', 'zhu', 'lindley', 'dewey', 'fein', 'ireland', 'fascinating', 'cuny', 'cooking', 'dbj', 'navigational', 'ratnakar', 'dct', 'opt', 'clicking', 'holland', 'seuss', 'otu', 'univerversity', 'yan', 'london', 'diyu', 'alchemy', 'turning', 'smaragd', 'ltwilson', 'near', 'warning', 'nowadays', 'pointcast', 'perry', 'steelcase', 'kinda', 'tim', 'sing', 'japan', 'ideal', 'snowman', 'xsros', 'leap', 'wwlee', 'tired', 'selects', 'enters', 'payoff', 'evolve', 'satisfaction', 'aastha', 'bhardwaj', 'hasbrouck', 'knight', 'tamches', 'ariel', 'blue', 'segal', 'bobby', 'bryan', 'fredriksen', 'beyer', 'caution', 'men', 'instructing', 'rvdg', 'forced', 'intercom', 'plapack', 'sl', 'purely', 'hierachy', 'receiver', 'garrett', 'chan', 'hell', 'hang', 'pursuing', 'krung', 'church', 'cnchu', 'colin', 'initiated', 'scanning', 'janwun', 'qual', 'sightseeing', 'ppp', 'yasushi', 'canvas', 'qiming', 'prc', 'mi', 'teamweb', 'pearson', 'perhaps', 'crystal', 'far', 'believe', 'widely', 'hide', 'estimate', 'von', 'hao', 'irregular', 'zippel', 'parker', 'kuen', 'inconvenience', 'verifier', 'markus', 'ots', 'ctan', 'sam', 'unreliable', 'impossibility', 'slow', 'guaranteed', 'jayanti', 'harit', 'mvsr', 'sastry', 'roommate', 'zubber', 'courtesy', 'professorrdz', 'researchmy', 'pricing', 'studentsi', 'transforms', 'scribe', 'activitiesi', 'comittee', 'acknowledgementsthis', 'bank', 'iram', 'philip', 'woest', 'ross', 'doug', 'kaxiras', 'dburger', 'guise', 'manage', 'investigator', 'initiative', 'cnri', 'employed', 'dissemination', 'dienst', 'diplom', 'ankit', 'apatel', 'dsouza', 'alleviates', 'duplicated', 'lite', 'presenting', 'pierian', 'questioner', 'feeling', 'jbaer', 'jovan', 'vitrano', 'fussell', 'dallas', 'sodani', 'hons', 'neighborhood', 'grail', 'mtwong', 'democracy', 'alto', 'joined', 'nw', 'webpainter', 'marketing', 'whkao', 'position', 'fluid', 'turbulence', 'satish', 'egs', 'nec', 'vesta', 'reduced', 'actual', 'ping', 'de', 'et', 'motivates', 'accompanying', 'subconference', 'cvgip', 'geographical', 'soil', 'amit', 'snail', 'ppt', 'competitive', 'mdds', 'vote', 'mccarthy', 'wonderful', 'licensing', 'nothing', 'furthermore', 'incensed', 'rucker', 'smalley', 'leavy', 'subtopics', 'commission', 'shuttle', 'aiaa', 'aeronautics', 'engine', 'awareness', 'lagoze', 'manages', 'maintains', 'collaborates', 'interoperable', 'isos', 'toddler', 'xingshan', 'secosky', 'jason', 'forecast', 'pop', 'programme', 'baccalaureate', 'cl', 'ejp', 'advisory', 'lexicon', 'frequented', 'surreal', 'alemany', 'jthomas', 'duration', 'grab', 'installation', 'recieves', 'flisakow', 'jprior', 'swisher', 'cue', 'nonrigid', 'seligman', 'peskin', 'mba', 'president', 'tep', 'microsystem', 'espn', 'webb', 'itpack', 'rapidly', 'multilevel', 'vona', 'iterative', 'pdes', 'erdem', 'esra', 'nara', 'pardy', 'interasted', 'polish', 'poland', 'swander', 'marla', 'taz', 'cscl', 'coimage', 'devleoped', 'contolled', 'ark', 'filling', 'bohus', 'sorento', 'golden', 'touring', 'kgolden', 'lnt', 'vicki', 'rn', 'nsson', 'sigact', 'subcommittee', 'eleven', 'postdoctoral', 'np', 'expressive', 'supportive', 'serving', 'microkernel', 'az', 'hurtado', 'jrd', 'colombia', 'instrument', 'jreich', 'carril', 'explicitly', 'junk', 'qzuo', 'guestbook', 'modificat', 'vipin', 'deposit', 'sometimes', 'unified', 'techreports', 'killer', 'killed', 'tweaking', 'mozilla', 'dabbled', 'compulsory', 'wkmak', 'resum', 'jshakes', 'temporal', 'lifschitz', 'race', 'admit', 'vl', 'amir', 'occasionaly', 'pl', 'arch', 'preprocessor', 'delegating', 'fry', 'nail', 'valley', 'regression', 'vague', 'rabid', 'kemin', 'falsafi', 'cult', 'suny', 'profane', 'conversation', 'isheldon', 'baby', 'weiru', 'eiru', 'insane', 'dictionnaire', 'relatifs', 'francaise', 'mukai', 'fill', 'emery', 'improved', 'heji', 'zhe', 'zhewang', 'neil', 'mckenzie', 'volume', 'expatriate', 'mactester', 'angel', 'artwork', 'norm', 'purdue', 'krzysztof', 'zmudzinski', 'lopez', 'springer', 'identity', 'bologna', 'kaleidoscope', 'wire', 'matthai', 'western', 'affect', 'validate', 'intraprocedural', 'splitting', 'fifteen', 'living', 'desgined', 'vertex', 'threader', 'react', 'haizhou', 'zhongshan', 'guangzhou', 'zchen', 'gala', 'attributed', 'fingering', 'constant', 'initially', 'eventually', 'psg', 'indira', 'cyber', 'bay', 'star', 'linearly', 'similarly', 'misclassified', 'cart', 'discrimination', 'photograph', 'cricket', 'peking', 'magzines', 'jyluo', 'accomplishment', 'kuiper', 'sharenow', 'i', 'biography', 'bullet', 'eremolin', 'leung', 'shuntak', 'restructuring', 'permitting', 'answering', 'led', 'ballistic', 'odyssey', 'buaa', 'zhouxiao', 'mar', 'retina', 'desynchronizing', 'nn', 'touretzky', 'mozer', 'hasselmo', 'bunch', 'totally', 'ksa', 'bsmith', 'scalability', 'previewed', 'yen', 'resolution', 'annette', 'cmt', 'ward', 'dub', 'walkthru', 'shortcut', 'speed', 'educator', 'novice', 'sweden', 'iticse', 'frenzy', 'cpsr', 'plenty', 'hasti', 'davis', 'capturing', 'lawyer', 'improving', 'publicatiions', 'ghias', 'halpern', 'originally', 'wallis', 'lukas', 'festival', 'animator', 'valued', 'mental', 'removed', 'chance', 'insulted', 'obrien', 'resident', 'con', 'mc', 'gdraw', 'xwindows', 'spot', 'hiep', 'psuedo', 'snow', 'esteban', 'takako', 'social', 'combine', 'polynomially', 'wigderson', 'round', 'cai', 'lipton', 'marvel', 'unabashedly', 'aside', 'happily', 'practicing', 'spectrum', 'modeler', 'jbasney', 'oberlin', 'mateev', 'upcomming', 'profiling', 'editing', 'eel', 'spim', 'teapot', 'ppopp', 'frequency', 'lcm', 'icpp', 'lorenz', 'tball', 'facilitates', 'rajaraman', 'hopeful', 'partovi', 'christensen', 'reiss', 'shuman', 'ngo', 'leapfrogging', 'ausland', 'meld', 'coauthor', 'mix', 'fishing', 'funda', 'wasserman', 'ronitt', 'shuichi', 'skoga', 'berg', 'sgberg', 'stefan', 'byte', 'putchar', 'char', 'printf', 'mae', 'automotive', 'synchronized', 'obviously', 'camaros', 'efi', 'swartz', 'joseph', 'gone', 'despite', 'explores', 'resolve', 'sequencing', 'utilized', 'subexponential', 'pruim', 'similarity', 'meidanis', 'tiwari', 'professordph', 'supporting', 'authoring', 'attitude', 'messy', 'rupert', 'julian', 'wfinger', 'commercialization', 'psm', 'stafylopatis', 'tsanakas', 'ashis', 'toonen', 'dart', 'brewing', 'foster', 'spectral', 'michalakes', 'worley', 'hoffmann', 'hack', 'semeraro', 'williamson', 'minkoff', 'sutton', 'shepard', 'tilson', 'wagner', 'harrison', 'kendall', 'nieplocha', 'weave', 'sioux', 'vice', 'toronto', 'almost', 'terrific', 'seem', 'semiconductor', 'brook', 'persuasion', 'abbreviated', 'driving', 'alleging', 'sac', 'cu', 'reflector', 'touched', 'ellpack', 'florian', 'animesh', 'kohl', 'grid', 'pde', 'houstis', 'vii', 'vichnevetsky', 'decomposer', 'kortesis', 'mimd', 'karathanases', 'samartzis', 'vavalis', 'weerawarana', 'quotation', 'fear', 'deficiency', 'subba', 'prooocessors', 'parekh', 'evaluated', 'removable', 'sparekh', 'smt', 'analyst', 'haskell', 'handiwork', 'texbook', 'poon', 'perfection', 'requirments', 'middleware', 'princples', 'landis', 'perception', 'mb', 'nt', 'compliant', 'baseball', 'scl', 'establishing', 'yau', 'daniela', 'ru', 'icelander', 'linden', 'political', 'myriad', 'ucsd', 'enviroments', 'krishnamoorthy', 'paturi', 'shadow', 'inventor', 'glinden', 'woody', 'bledsoe', 'strother', 'iprshults', 'steam', 'powered', 'mural', 'newsletter', 'affiliate', 'categorized', 'scenario', 'qr', 'qw', 'constructed', 'pcn', 'vcm', 'vcx', 'export', 'vcn', 'vdl', 'lpm', 'padgett', 'theoretic', 'intrinsic', 'transmission', 'soc', 'glaser', 'shallit', 'cnc', 'palmer', 'communicating', 'newhall', 'guanajuato', 'alltraxx', 'dcooper', 'honest', 'trusted', 'accomplished', 'impersonate', 'inherent', 'owner', 'hashimoto', 'tsuneshi', 'hashi', 'mishaal', 'kuwaiti', 'temporary', 'kuwait', 'cooler', 'hog', 'pnhp', 'eiluned', 'vanhilst', 'mvh', 'seismologist', 'alliance', 'shirey', 'tracy', 'isotas', 'tie', 'vsm', 'matt', 'gilson', 'zeiden', 'zeidenbe', 'ssc', 'voronoi', 'tve', 'spmd', 'ported', 'password', 'grained', 'spertus', 'santos', 'subramonian', 'lenient', 'wawrzynek', 'saavedra']\n"
          ]
        }
      ]
    },
    {
      "cell_type": "markdown",
      "source": [
        "## Splitting Data Into Training And Testing"
      ],
      "metadata": {
        "id": "9lKdRy0KxQJf"
      }
    },
    {
      "cell_type": "code",
      "source": [
        "X = raw_data[\"Lemmatized\"]\n",
        "Y = raw_data[\"Type\"]\n",
        "\n",
        "vectorizer = TfidfVectorizer()  \n",
        "\n",
        "vectorizer.fit(co_occurance)\n",
        "X_tfidf = vectorizer.transform(X)"
      ],
      "metadata": {
        "id": "dpmWDC1FytJf"
      },
      "execution_count": 19,
      "outputs": []
    },
    {
      "cell_type": "code",
      "source": [
        "X_train, X_test, Y_train, Y_test = train_test_split(X_tfidf, Y, test_size=0.3, random_state=42)"
      ],
      "metadata": {
        "id": "Yl-PELjVzPrp"
      },
      "execution_count": 25,
      "outputs": []
    },
    {
      "cell_type": "markdown",
      "source": [
        "## Applying Multinomial Naive Bayes"
      ],
      "metadata": {
        "id": "hg-jAZ06xVWX"
      }
    },
    {
      "cell_type": "code",
      "source": [
        "model = MultinomialNB()\n",
        "model.fit(X_train, Y_train)"
      ],
      "metadata": {
        "colab": {
          "base_uri": "https://localhost:8080/"
        },
        "id": "32Fq0jDx2cjK",
        "outputId": "d704e18b-6576-449a-d986-42a4adec03db"
      },
      "execution_count": 26,
      "outputs": [
        {
          "output_type": "execute_result",
          "data": {
            "text/plain": [
              "MultinomialNB()"
            ]
          },
          "metadata": {},
          "execution_count": 26
        }
      ]
    },
    {
      "cell_type": "code",
      "source": [
        "Y_Pred = model.predict(X_test)"
      ],
      "metadata": {
        "id": "ZqJ4oNoY2eMj"
      },
      "execution_count": 27,
      "outputs": []
    },
    {
      "cell_type": "markdown",
      "source": [
        "## Visualization"
      ],
      "metadata": {
        "id": "sl4gv6nuxZbq"
      }
    },
    {
      "cell_type": "code",
      "source": [
        "from sklearn import metrics\n",
        "import matplotlib.pyplot as plt\n",
        "from sklearn.metrics import confusion_matrix\n",
        "import seaborn as sns\n",
        "from sklearn.metrics import classification_report\n",
        "\n",
        "print('Accuracy score with Multinomial Naive Bayes is : ')\n",
        "print(metrics.accuracy_score(Y_test,Y_Pred)*100)\n",
        "cf_matrix = confusion_matrix(Y_test, Y_Pred)\n",
        "print(classification_report(Y_test, Y_Pred))\n",
        "\n",
        "plt.figure(figsize=(44,12))\n",
        "\n",
        "unique_label = [\"Course\" , \"No Course\"]\n",
        "\n",
        "sns.heatmap(cf_matrix,annot=True ,fmt='d',  cmap='Blues',square=True ,cbar=True, linewidths=.10, xticklabels= unique_label, yticklabels= unique_label  )\n",
        "plt.ylabel('Actual lable')\n",
        "plt.xlabel('Predicted lable')"
      ],
      "metadata": {
        "colab": {
          "base_uri": "https://localhost:8080/",
          "height": 922
        },
        "id": "DX0sA6oA3E2K",
        "outputId": "85ddbe6a-0caa-442c-8248-12b65706c6cf"
      },
      "execution_count": 28,
      "outputs": [
        {
          "output_type": "stream",
          "name": "stdout",
          "text": [
            "Accuracy score with Multinomial Naive Bayes is : \n",
            "86.39240506329115\n",
            "              precision    recall  f1-score   support\n",
            "\n",
            "      Course       1.00      0.37      0.54        68\n",
            "   No Course       0.85      1.00      0.92       248\n",
            "\n",
            "    accuracy                           0.86       316\n",
            "   macro avg       0.93      0.68      0.73       316\n",
            "weighted avg       0.88      0.86      0.84       316\n",
            "\n"
          ]
        },
        {
          "output_type": "execute_result",
          "data": {
            "text/plain": [
              "Text(0.5, 87.0, 'Predicted lable')"
            ]
          },
          "metadata": {},
          "execution_count": 28
        },
        {
          "output_type": "display_data",
          "data": {
            "text/plain": [
              "<Figure size 3168x864 with 2 Axes>"
            ],
            "image/png": "[encoded data removed]"
          },
          "metadata": {
            "needs_background": "light"
          }
        }
      ]
    },
    {
      "cell_type": "markdown",
      "source": [
        "## **Saving Models**"
      ],
      "metadata": {
        "id": "_wIO_g4HbHeh"
      }
    },
    {
      "cell_type": "code",
      "source": [
        "import pickle\n",
        "pickle.dump(model, open('model_Topic.pickle', 'wb'))\n",
        "pickle.dump(vectorizer, open(\"vectorizer_Topic.pickle\", \"wb\"))"
      ],
      "metadata": {
        "id": "rmpxSdcQsjKL"
      },
      "execution_count": 24,
      "outputs": []
    },
    {
      "cell_type": "code",
      "source": [
        ""
      ],
      "metadata": {
        "id": "6JnTIjVzsrNd"
      },
      "execution_count": null,
      "outputs": []
    }
  ]
}